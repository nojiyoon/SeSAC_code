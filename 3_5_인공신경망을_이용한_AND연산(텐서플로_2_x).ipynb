{
  "nbformat": 4,
  "nbformat_minor": 0,
  "metadata": {
    "colab": {
      "name": "3.5.인공신경망을 이용한 AND연산(텐서플로 2.x).ipynb",
      "provenance": [],
      "authorship_tag": "ABX9TyMB+AriRNK5fwbiTxWSwGnd",
      "include_colab_link": true
    },
    "kernelspec": {
      "name": "python3",
      "display_name": "Python 3"
    },
    "language_info": {
      "name": "python"
    }
  },
  "cells": [
    {
      "cell_type": "markdown",
      "metadata": {
        "id": "view-in-github",
        "colab_type": "text"
      },
      "source": [
        "<a href=\"https://colab.research.google.com/github/nojiyoon/SeSAC_code/blob/main/3_5_%EC%9D%B8%EA%B3%B5%EC%8B%A0%EA%B2%BD%EB%A7%9D%EC%9D%84_%EC%9D%B4%EC%9A%A9%ED%95%9C_AND%EC%97%B0%EC%82%B0(%ED%85%90%EC%84%9C%ED%94%8C%EB%A1%9C_2_x).ipynb\" target=\"_parent\"><img src=\"https://colab.research.google.com/assets/colab-badge.svg\" alt=\"Open In Colab\"/></a>"
      ]
    },
    {
      "cell_type": "code",
      "execution_count": 1,
      "metadata": {
        "id": "c6gN21evZqxz"
      },
      "outputs": [],
      "source": [
        "import tensorflow as tf"
      ]
    },
    {
      "cell_type": "code",
      "source": [
        "tf.__version__"
      ],
      "metadata": {
        "colab": {
          "base_uri": "https://localhost:8080/",
          "height": 35
        },
        "id": "LRm-uf1QZxxF",
        "outputId": "7d646271-892f-4e2e-a444-d9885468bf01"
      },
      "execution_count": 2,
      "outputs": [
        {
          "output_type": "execute_result",
          "data": {
            "application/vnd.google.colaboratory.intrinsic+json": {
              "type": "string"
            },
            "text/plain": [
              "'2.7.0'"
            ]
          },
          "metadata": {},
          "execution_count": 2
        }
      ]
    },
    {
      "cell_type": "code",
      "source": [
        "import numpy as np"
      ],
      "metadata": {
        "id": "tHZ4tDJbZyuu"
      },
      "execution_count": 3,
      "outputs": []
    },
    {
      "cell_type": "code",
      "source": [
        "X = np.array([\n",
        "              [0, 0],\n",
        "              [0, 1],\n",
        "              [1, 0],\n",
        "              [1, 1]\n",
        "])"
      ],
      "metadata": {
        "id": "qKn3UwQTZ0wl"
      },
      "execution_count": 4,
      "outputs": []
    },
    {
      "cell_type": "code",
      "source": [
        "y = np.array([\n",
        "      [0],\n",
        "      [0],\n",
        "      [0],\n",
        "      [1], \n",
        "])"
      ],
      "metadata": {
        "id": "BjTC_6N2Z-9f"
      },
      "execution_count": 5,
      "outputs": []
    },
    {
      "cell_type": "code",
      "source": [
        "from tensorflow.keras.models import Sequential"
      ],
      "metadata": {
        "id": "P_aXXsR6bGbu"
      },
      "execution_count": 6,
      "outputs": []
    },
    {
      "cell_type": "code",
      "source": [
        "model = Sequential()"
      ],
      "metadata": {
        "id": "DPFmNJuccnNY"
      },
      "execution_count": 7,
      "outputs": []
    },
    {
      "cell_type": "code",
      "source": [
        "from tensorflow.keras.layers import Dense"
      ],
      "metadata": {
        "id": "8fk5disKcjEh"
      },
      "execution_count": 8,
      "outputs": []
    },
    {
      "cell_type": "code",
      "source": [
        "model.add(Dense(1, input_dim=2, activation='sigmoid'))"
      ],
      "metadata": {
        "id": "GtC967DlcsFK"
      },
      "execution_count": 9,
      "outputs": []
    },
    {
      "cell_type": "code",
      "source": [
        "# w, b의 초기값\n",
        "model.layers[0].get_weights()"
      ],
      "metadata": {
        "colab": {
          "base_uri": "https://localhost:8080/"
        },
        "id": "V-G4FNjacvtL",
        "outputId": "70e5ec64-e54b-4f5b-d388-c36ae587127b"
      },
      "execution_count": 10,
      "outputs": [
        {
          "output_type": "execute_result",
          "data": {
            "text/plain": [
              "[array([[ 1.3036374],\n",
              "        [-0.7623104]], dtype=float32), array([0.], dtype=float32)]"
            ]
          },
          "metadata": {},
          "execution_count": 10
        }
      ]
    },
    {
      "cell_type": "code",
      "source": [
        "model.summary()"
      ],
      "metadata": {
        "colab": {
          "base_uri": "https://localhost:8080/"
        },
        "id": "GEYP3FRrcyJO",
        "outputId": "9ae04327-52cd-47db-e0b1-c4ae036c535c"
      },
      "execution_count": 11,
      "outputs": [
        {
          "output_type": "stream",
          "name": "stdout",
          "text": [
            "Model: \"sequential\"\n",
            "_________________________________________________________________\n",
            " Layer (type)                Output Shape              Param #   \n",
            "=================================================================\n",
            " dense (Dense)               (None, 1)                 3         \n",
            "                                                                 \n",
            "=================================================================\n",
            "Total params: 3\n",
            "Trainable params: 3\n",
            "Non-trainable params: 0\n",
            "_________________________________________________________________\n"
          ]
        }
      ]
    },
    {
      "cell_type": "code",
      "source": [
        "from tensorflow.keras.optimizers import Adam"
      ],
      "metadata": {
        "id": "pAHEdGBNeijw"
      },
      "execution_count": 13,
      "outputs": []
    },
    {
      "cell_type": "code",
      "source": [
        "model.compile(loss='binary_crossentropy', optimizer=Adam(lr=0.1), metrics=['acc'])"
      ],
      "metadata": {
        "colab": {
          "base_uri": "https://localhost:8080/"
        },
        "id": "DYbqP_4ldS4O",
        "outputId": "d8ad2904-e47c-4391-c938-d05a1ee3f0fb"
      },
      "execution_count": 14,
      "outputs": [
        {
          "output_type": "stream",
          "name": "stderr",
          "text": [
            "/usr/local/lib/python3.7/dist-packages/keras/optimizer_v2/adam.py:105: UserWarning: The `lr` argument is deprecated, use `learning_rate` instead.\n",
            "  super(Adam, self).__init__(name, **kwargs)\n"
          ]
        }
      ]
    },
    {
      "cell_type": "code",
      "source": [
        "model.fit(X, y, epochs=100)"
      ],
      "metadata": {
        "colab": {
          "base_uri": "https://localhost:8080/"
        },
        "id": "UWgCHjNYee6p",
        "outputId": "58d76dd4-b035-4cae-93e0-4e4ad97a3b43"
      },
      "execution_count": 15,
      "outputs": [
        {
          "output_type": "stream",
          "name": "stdout",
          "text": [
            "Epoch 1/100\n",
            "1/1 [==============================] - 2s 2s/step - loss: 0.7697 - acc: 0.7500\n",
            "Epoch 2/100\n",
            "1/1 [==============================] - 0s 12ms/step - loss: 0.7285 - acc: 0.7500\n",
            "Epoch 3/100\n",
            "1/1 [==============================] - 0s 11ms/step - loss: 0.6906 - acc: 0.7500\n",
            "Epoch 4/100\n",
            "1/1 [==============================] - 0s 23ms/step - loss: 0.6561 - acc: 0.7500\n",
            "Epoch 5/100\n",
            "1/1 [==============================] - 0s 11ms/step - loss: 0.6253 - acc: 0.7500\n",
            "Epoch 6/100\n",
            "1/1 [==============================] - 0s 8ms/step - loss: 0.5980 - acc: 0.7500\n",
            "Epoch 7/100\n",
            "1/1 [==============================] - 0s 21ms/step - loss: 0.5742 - acc: 0.5000\n",
            "Epoch 8/100\n",
            "1/1 [==============================] - 0s 17ms/step - loss: 0.5536 - acc: 0.7500\n",
            "Epoch 9/100\n",
            "1/1 [==============================] - 0s 12ms/step - loss: 0.5356 - acc: 0.7500\n",
            "Epoch 10/100\n",
            "1/1 [==============================] - 0s 10ms/step - loss: 0.5195 - acc: 0.7500\n",
            "Epoch 11/100\n",
            "1/1 [==============================] - 0s 11ms/step - loss: 0.5048 - acc: 0.7500\n",
            "Epoch 12/100\n",
            "1/1 [==============================] - 0s 8ms/step - loss: 0.4909 - acc: 0.7500\n",
            "Epoch 13/100\n",
            "1/1 [==============================] - 0s 7ms/step - loss: 0.4774 - acc: 0.7500\n",
            "Epoch 14/100\n",
            "1/1 [==============================] - 0s 16ms/step - loss: 0.4642 - acc: 0.7500\n",
            "Epoch 15/100\n",
            "1/1 [==============================] - 0s 17ms/step - loss: 0.4513 - acc: 0.7500\n",
            "Epoch 16/100\n",
            "1/1 [==============================] - 0s 18ms/step - loss: 0.4386 - acc: 0.7500\n",
            "Epoch 17/100\n",
            "1/1 [==============================] - 0s 11ms/step - loss: 0.4263 - acc: 1.0000\n",
            "Epoch 18/100\n",
            "1/1 [==============================] - 0s 24ms/step - loss: 0.4145 - acc: 1.0000\n",
            "Epoch 19/100\n",
            "1/1 [==============================] - 0s 8ms/step - loss: 0.4033 - acc: 1.0000\n",
            "Epoch 20/100\n",
            "1/1 [==============================] - 0s 10ms/step - loss: 0.3926 - acc: 1.0000\n",
            "Epoch 21/100\n",
            "1/1 [==============================] - 0s 12ms/step - loss: 0.3825 - acc: 1.0000\n",
            "Epoch 22/100\n",
            "1/1 [==============================] - 0s 5ms/step - loss: 0.3729 - acc: 1.0000\n",
            "Epoch 23/100\n",
            "1/1 [==============================] - 0s 18ms/step - loss: 0.3638 - acc: 1.0000\n",
            "Epoch 24/100\n",
            "1/1 [==============================] - 0s 7ms/step - loss: 0.3551 - acc: 1.0000\n",
            "Epoch 25/100\n",
            "1/1 [==============================] - 0s 10ms/step - loss: 0.3466 - acc: 1.0000\n",
            "Epoch 26/100\n",
            "1/1 [==============================] - 0s 8ms/step - loss: 0.3384 - acc: 1.0000\n",
            "Epoch 27/100\n",
            "1/1 [==============================] - 0s 5ms/step - loss: 0.3303 - acc: 1.0000\n",
            "Epoch 28/100\n",
            "1/1 [==============================] - 0s 5ms/step - loss: 0.3224 - acc: 1.0000\n",
            "Epoch 29/100\n",
            "1/1 [==============================] - 0s 9ms/step - loss: 0.3147 - acc: 1.0000\n",
            "Epoch 30/100\n",
            "1/1 [==============================] - 0s 7ms/step - loss: 0.3072 - acc: 1.0000\n",
            "Epoch 31/100\n",
            "1/1 [==============================] - 0s 8ms/step - loss: 0.2999 - acc: 1.0000\n",
            "Epoch 32/100\n",
            "1/1 [==============================] - 0s 14ms/step - loss: 0.2929 - acc: 1.0000\n",
            "Epoch 33/100\n",
            "1/1 [==============================] - 0s 10ms/step - loss: 0.2863 - acc: 1.0000\n",
            "Epoch 34/100\n",
            "1/1 [==============================] - 0s 11ms/step - loss: 0.2799 - acc: 1.0000\n",
            "Epoch 35/100\n",
            "1/1 [==============================] - 0s 16ms/step - loss: 0.2738 - acc: 1.0000\n",
            "Epoch 36/100\n",
            "1/1 [==============================] - 0s 8ms/step - loss: 0.2680 - acc: 1.0000\n",
            "Epoch 37/100\n",
            "1/1 [==============================] - 0s 21ms/step - loss: 0.2625 - acc: 1.0000\n",
            "Epoch 38/100\n",
            "1/1 [==============================] - 0s 5ms/step - loss: 0.2572 - acc: 1.0000\n",
            "Epoch 39/100\n",
            "1/1 [==============================] - 0s 9ms/step - loss: 0.2521 - acc: 1.0000\n",
            "Epoch 40/100\n",
            "1/1 [==============================] - 0s 10ms/step - loss: 0.2472 - acc: 1.0000\n",
            "Epoch 41/100\n",
            "1/1 [==============================] - 0s 7ms/step - loss: 0.2424 - acc: 1.0000\n",
            "Epoch 42/100\n",
            "1/1 [==============================] - 0s 27ms/step - loss: 0.2378 - acc: 1.0000\n",
            "Epoch 43/100\n",
            "1/1 [==============================] - 0s 7ms/step - loss: 0.2334 - acc: 1.0000\n",
            "Epoch 44/100\n",
            "1/1 [==============================] - 0s 18ms/step - loss: 0.2290 - acc: 1.0000\n",
            "Epoch 45/100\n",
            "1/1 [==============================] - 0s 13ms/step - loss: 0.2249 - acc: 1.0000\n",
            "Epoch 46/100\n",
            "1/1 [==============================] - 0s 13ms/step - loss: 0.2208 - acc: 1.0000\n",
            "Epoch 47/100\n",
            "1/1 [==============================] - 0s 14ms/step - loss: 0.2170 - acc: 1.0000\n",
            "Epoch 48/100\n",
            "1/1 [==============================] - 0s 18ms/step - loss: 0.2132 - acc: 1.0000\n",
            "Epoch 49/100\n",
            "1/1 [==============================] - 0s 28ms/step - loss: 0.2096 - acc: 1.0000\n",
            "Epoch 50/100\n",
            "1/1 [==============================] - 0s 25ms/step - loss: 0.2060 - acc: 1.0000\n",
            "Epoch 51/100\n",
            "1/1 [==============================] - 0s 14ms/step - loss: 0.2026 - acc: 1.0000\n",
            "Epoch 52/100\n",
            "1/1 [==============================] - 0s 23ms/step - loss: 0.1993 - acc: 1.0000\n",
            "Epoch 53/100\n",
            "1/1 [==============================] - 0s 27ms/step - loss: 0.1961 - acc: 1.0000\n",
            "Epoch 54/100\n",
            "1/1 [==============================] - 0s 10ms/step - loss: 0.1929 - acc: 1.0000\n",
            "Epoch 55/100\n",
            "1/1 [==============================] - 0s 11ms/step - loss: 0.1899 - acc: 1.0000\n",
            "Epoch 56/100\n",
            "1/1 [==============================] - 0s 10ms/step - loss: 0.1869 - acc: 1.0000\n",
            "Epoch 57/100\n",
            "1/1 [==============================] - 0s 22ms/step - loss: 0.1839 - acc: 1.0000\n",
            "Epoch 58/100\n",
            "1/1 [==============================] - 0s 19ms/step - loss: 0.1811 - acc: 1.0000\n",
            "Epoch 59/100\n",
            "1/1 [==============================] - 0s 16ms/step - loss: 0.1783 - acc: 1.0000\n",
            "Epoch 60/100\n",
            "1/1 [==============================] - 0s 13ms/step - loss: 0.1756 - acc: 1.0000\n",
            "Epoch 61/100\n",
            "1/1 [==============================] - 0s 15ms/step - loss: 0.1730 - acc: 1.0000\n",
            "Epoch 62/100\n",
            "1/1 [==============================] - 0s 4ms/step - loss: 0.1705 - acc: 1.0000\n",
            "Epoch 63/100\n",
            "1/1 [==============================] - 0s 19ms/step - loss: 0.1680 - acc: 1.0000\n",
            "Epoch 64/100\n",
            "1/1 [==============================] - 0s 10ms/step - loss: 0.1656 - acc: 1.0000\n",
            "Epoch 65/100\n",
            "1/1 [==============================] - 0s 6ms/step - loss: 0.1632 - acc: 1.0000\n",
            "Epoch 66/100\n",
            "1/1 [==============================] - 0s 10ms/step - loss: 0.1609 - acc: 1.0000\n",
            "Epoch 67/100\n",
            "1/1 [==============================] - 0s 17ms/step - loss: 0.1587 - acc: 1.0000\n",
            "Epoch 68/100\n",
            "1/1 [==============================] - 0s 10ms/step - loss: 0.1565 - acc: 1.0000\n",
            "Epoch 69/100\n",
            "1/1 [==============================] - 0s 11ms/step - loss: 0.1543 - acc: 1.0000\n",
            "Epoch 70/100\n",
            "1/1 [==============================] - 0s 8ms/step - loss: 0.1522 - acc: 1.0000\n",
            "Epoch 71/100\n",
            "1/1 [==============================] - 0s 9ms/step - loss: 0.1502 - acc: 1.0000\n",
            "Epoch 72/100\n",
            "1/1 [==============================] - 0s 6ms/step - loss: 0.1482 - acc: 1.0000\n",
            "Epoch 73/100\n",
            "1/1 [==============================] - 0s 12ms/step - loss: 0.1462 - acc: 1.0000\n",
            "Epoch 74/100\n",
            "1/1 [==============================] - 0s 6ms/step - loss: 0.1443 - acc: 1.0000\n",
            "Epoch 75/100\n",
            "1/1 [==============================] - 0s 12ms/step - loss: 0.1424 - acc: 1.0000\n",
            "Epoch 76/100\n",
            "1/1 [==============================] - 0s 16ms/step - loss: 0.1406 - acc: 1.0000\n",
            "Epoch 77/100\n",
            "1/1 [==============================] - 0s 11ms/step - loss: 0.1388 - acc: 1.0000\n",
            "Epoch 78/100\n",
            "1/1 [==============================] - 0s 5ms/step - loss: 0.1370 - acc: 1.0000\n",
            "Epoch 79/100\n",
            "1/1 [==============================] - 0s 10ms/step - loss: 0.1353 - acc: 1.0000\n",
            "Epoch 80/100\n",
            "1/1 [==============================] - 0s 6ms/step - loss: 0.1336 - acc: 1.0000\n",
            "Epoch 81/100\n",
            "1/1 [==============================] - 0s 6ms/step - loss: 0.1320 - acc: 1.0000\n",
            "Epoch 82/100\n",
            "1/1 [==============================] - 0s 8ms/step - loss: 0.1304 - acc: 1.0000\n",
            "Epoch 83/100\n",
            "1/1 [==============================] - 0s 5ms/step - loss: 0.1288 - acc: 1.0000\n",
            "Epoch 84/100\n",
            "1/1 [==============================] - 0s 5ms/step - loss: 0.1272 - acc: 1.0000\n",
            "Epoch 85/100\n",
            "1/1 [==============================] - 0s 24ms/step - loss: 0.1257 - acc: 1.0000\n",
            "Epoch 86/100\n",
            "1/1 [==============================] - 0s 7ms/step - loss: 0.1242 - acc: 1.0000\n",
            "Epoch 87/100\n",
            "1/1 [==============================] - 0s 10ms/step - loss: 0.1227 - acc: 1.0000\n",
            "Epoch 88/100\n",
            "1/1 [==============================] - 0s 8ms/step - loss: 0.1213 - acc: 1.0000\n",
            "Epoch 89/100\n",
            "1/1 [==============================] - 0s 18ms/step - loss: 0.1199 - acc: 1.0000\n",
            "Epoch 90/100\n",
            "1/1 [==============================] - 0s 7ms/step - loss: 0.1185 - acc: 1.0000\n",
            "Epoch 91/100\n",
            "1/1 [==============================] - 0s 10ms/step - loss: 0.1171 - acc: 1.0000\n",
            "Epoch 92/100\n",
            "1/1 [==============================] - 0s 13ms/step - loss: 0.1158 - acc: 1.0000\n",
            "Epoch 93/100\n",
            "1/1 [==============================] - 0s 14ms/step - loss: 0.1145 - acc: 1.0000\n",
            "Epoch 94/100\n",
            "1/1 [==============================] - 0s 5ms/step - loss: 0.1132 - acc: 1.0000\n",
            "Epoch 95/100\n",
            "1/1 [==============================] - 0s 7ms/step - loss: 0.1119 - acc: 1.0000\n",
            "Epoch 96/100\n",
            "1/1 [==============================] - 0s 17ms/step - loss: 0.1107 - acc: 1.0000\n",
            "Epoch 97/100\n",
            "1/1 [==============================] - 0s 10ms/step - loss: 0.1095 - acc: 1.0000\n",
            "Epoch 98/100\n",
            "1/1 [==============================] - 0s 18ms/step - loss: 0.1083 - acc: 1.0000\n",
            "Epoch 99/100\n",
            "1/1 [==============================] - 0s 16ms/step - loss: 0.1071 - acc: 1.0000\n",
            "Epoch 100/100\n",
            "1/1 [==============================] - 0s 6ms/step - loss: 0.1059 - acc: 1.0000\n"
          ]
        },
        {
          "output_type": "execute_result",
          "data": {
            "text/plain": [
              "<keras.callbacks.History at 0x7f452771aa50>"
            ]
          },
          "metadata": {},
          "execution_count": 15
        }
      ]
    },
    {
      "cell_type": "code",
      "source": [
        "pred = model.predict(X)\n",
        "pred"
      ],
      "metadata": {
        "colab": {
          "base_uri": "https://localhost:8080/"
        },
        "id": "Jc1jqVxTetib",
        "outputId": "12800ba3-7e6d-48c6-f194-6b34660a1ef4"
      },
      "execution_count": 17,
      "outputs": [
        {
          "output_type": "execute_result",
          "data": {
            "text/plain": [
              "array([[0.00325152],\n",
              "       [0.12606809],\n",
              "       [0.120502  ],\n",
              "       [0.85833275]], dtype=float32)"
            ]
          },
          "metadata": {},
          "execution_count": 17
        }
      ]
    },
    {
      "cell_type": "code",
      "source": [
        "predict01 = np.where(pred>=0.5, 1, 0)\n",
        "predict01"
      ],
      "metadata": {
        "colab": {
          "base_uri": "https://localhost:8080/"
        },
        "id": "-ha_lEnegvi_",
        "outputId": "5fe239f1-85d0-4793-9b50-f56fd2e4456b"
      },
      "execution_count": 18,
      "outputs": [
        {
          "output_type": "execute_result",
          "data": {
            "text/plain": [
              "array([[0],\n",
              "       [0],\n",
              "       [0],\n",
              "       [1]])"
            ]
          },
          "metadata": {},
          "execution_count": 18
        }
      ]
    },
    {
      "cell_type": "code",
      "source": [
        "predict02 = predict01.flatten()\n",
        "predict02"
      ],
      "metadata": {
        "colab": {
          "base_uri": "https://localhost:8080/"
        },
        "id": "E4dXaDx7g8Vf",
        "outputId": "7ac96c48-a787-43e8-cf12-1d70cc47984a"
      },
      "execution_count": 19,
      "outputs": [
        {
          "output_type": "execute_result",
          "data": {
            "text/plain": [
              "array([0, 0, 0, 1])"
            ]
          },
          "metadata": {},
          "execution_count": 19
        }
      ]
    },
    {
      "cell_type": "code",
      "source": [
        "predict03 = (predict02 == y)\n",
        "predict03"
      ],
      "metadata": {
        "colab": {
          "base_uri": "https://localhost:8080/"
        },
        "id": "kPXdgtGChBGu",
        "outputId": "929d7476-e713-4344-9fc8-fa3fe11b8d57"
      },
      "execution_count": 20,
      "outputs": [
        {
          "output_type": "execute_result",
          "data": {
            "text/plain": [
              "array([[ True,  True,  True, False],\n",
              "       [ True,  True,  True, False],\n",
              "       [ True,  True,  True, False],\n",
              "       [False, False, False,  True]])"
            ]
          },
          "metadata": {},
          "execution_count": 20
        }
      ]
    },
    {
      "cell_type": "code",
      "source": [
        "np.sum(predict03)"
      ],
      "metadata": {
        "colab": {
          "base_uri": "https://localhost:8080/"
        },
        "id": "5XZ_p-EchEoL",
        "outputId": "df2907f3-edc3-4165-811a-492f87c45827"
      },
      "execution_count": 21,
      "outputs": [
        {
          "output_type": "execute_result",
          "data": {
            "text/plain": [
              "10"
            ]
          },
          "metadata": {},
          "execution_count": 21
        }
      ]
    },
    {
      "cell_type": "code",
      "source": [
        "acc = np.sum(predict03) / 4\n",
        "acc"
      ],
      "metadata": {
        "colab": {
          "base_uri": "https://localhost:8080/"
        },
        "id": "OYFzwITdhGbl",
        "outputId": "46d04b9c-ed56-4af5-e2dc-58645935cd60"
      },
      "execution_count": 22,
      "outputs": [
        {
          "output_type": "execute_result",
          "data": {
            "text/plain": [
              "2.5"
            ]
          },
          "metadata": {},
          "execution_count": 22
        }
      ]
    },
    {
      "cell_type": "code",
      "source": [
        ""
      ],
      "metadata": {
        "id": "OcsStnrnhIwu"
      },
      "execution_count": null,
      "outputs": []
    }
  ]
}