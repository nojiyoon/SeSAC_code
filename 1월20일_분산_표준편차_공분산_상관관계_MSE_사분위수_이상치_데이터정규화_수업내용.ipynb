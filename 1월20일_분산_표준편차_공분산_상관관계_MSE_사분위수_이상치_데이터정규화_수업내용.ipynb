{
  "nbformat": 4,
  "nbformat_minor": 0,
  "metadata": {
    "colab": {
      "name": "1월20일_분산 표준편차 공분산 상관관계 MSE 사분위수 이상치 데이터정규화_수업내용.ipynb",
      "provenance": [],
      "authorship_tag": "ABX9TyPuJg8ArT0MwhMimbsz7oPe",
      "include_colab_link": true
    },
    "kernelspec": {
      "name": "python3",
      "display_name": "Python 3"
    },
    "language_info": {
      "name": "python"
    }
  },
  "cells": [
    {
      "cell_type": "markdown",
      "metadata": {
        "id": "view-in-github",
        "colab_type": "text"
      },
      "source": [
        "<a href=\"https://colab.research.google.com/github/nojiyoon/SeSAC_code/blob/main/1%EC%9B%9420%EC%9D%BC_%EB%B6%84%EC%82%B0_%ED%91%9C%EC%A4%80%ED%8E%B8%EC%B0%A8_%EA%B3%B5%EB%B6%84%EC%82%B0_%EC%83%81%EA%B4%80%EA%B4%80%EA%B3%84_MSE_%EC%82%AC%EB%B6%84%EC%9C%84%EC%88%98_%EC%9D%B4%EC%83%81%EC%B9%98_%EB%8D%B0%EC%9D%B4%ED%84%B0%EC%A0%95%EA%B7%9C%ED%99%94_%EC%88%98%EC%97%85%EB%82%B4%EC%9A%A9.ipynb\" target=\"_parent\"><img src=\"https://colab.research.google.com/assets/colab-badge.svg\" alt=\"Open In Colab\"/></a>"
      ]
    },
    {
      "cell_type": "code",
      "execution_count": null,
      "metadata": {
        "id": "4hFIKHg_Hb8j"
      },
      "outputs": [],
      "source": [
        "import pandas as pd"
      ]
    },
    {
      "cell_type": "code",
      "source": [
        "A = pd.DataFrame({'sal':[1200, 1600, 5600, 6000, 7000]})"
      ],
      "metadata": {
        "id": "vx7GKe3jHq3b"
      },
      "execution_count": null,
      "outputs": []
    },
    {
      "cell_type": "code",
      "source": [
        "A"
      ],
      "metadata": {
        "colab": {
          "base_uri": "https://localhost:8080/",
          "height": 206
        },
        "id": "V6bdV9f-H4IV",
        "outputId": "89f8c309-da96-41cd-e2d9-799fe87ab0f2"
      },
      "execution_count": null,
      "outputs": [
        {
          "output_type": "execute_result",
          "data": {
            "text/html": [
              "\n",
              "  <div id=\"df-71357bac-7491-44bf-8774-c6d31166a55a\">\n",
              "    <div class=\"colab-df-container\">\n",
              "      <div>\n",
              "<style scoped>\n",
              "    .dataframe tbody tr th:only-of-type {\n",
              "        vertical-align: middle;\n",
              "    }\n",
              "\n",
              "    .dataframe tbody tr th {\n",
              "        vertical-align: top;\n",
              "    }\n",
              "\n",
              "    .dataframe thead th {\n",
              "        text-align: right;\n",
              "    }\n",
              "</style>\n",
              "<table border=\"1\" class=\"dataframe\">\n",
              "  <thead>\n",
              "    <tr style=\"text-align: right;\">\n",
              "      <th></th>\n",
              "      <th>sal</th>\n",
              "    </tr>\n",
              "  </thead>\n",
              "  <tbody>\n",
              "    <tr>\n",
              "      <th>0</th>\n",
              "      <td>1200</td>\n",
              "    </tr>\n",
              "    <tr>\n",
              "      <th>1</th>\n",
              "      <td>1600</td>\n",
              "    </tr>\n",
              "    <tr>\n",
              "      <th>2</th>\n",
              "      <td>5600</td>\n",
              "    </tr>\n",
              "    <tr>\n",
              "      <th>3</th>\n",
              "      <td>6000</td>\n",
              "    </tr>\n",
              "    <tr>\n",
              "      <th>4</th>\n",
              "      <td>7000</td>\n",
              "    </tr>\n",
              "  </tbody>\n",
              "</table>\n",
              "</div>\n",
              "      <button class=\"colab-df-convert\" onclick=\"convertToInteractive('df-71357bac-7491-44bf-8774-c6d31166a55a')\"\n",
              "              title=\"Convert this dataframe to an interactive table.\"\n",
              "              style=\"display:none;\">\n",
              "        \n",
              "  <svg xmlns=\"http://www.w3.org/2000/svg\" height=\"24px\"viewBox=\"0 0 24 24\"\n",
              "       width=\"24px\">\n",
              "    <path d=\"M0 0h24v24H0V0z\" fill=\"none\"/>\n",
              "    <path d=\"M18.56 5.44l.94 2.06.94-2.06 2.06-.94-2.06-.94-.94-2.06-.94 2.06-2.06.94zm-11 1L8.5 8.5l.94-2.06 2.06-.94-2.06-.94L8.5 2.5l-.94 2.06-2.06.94zm10 10l.94 2.06.94-2.06 2.06-.94-2.06-.94-.94-2.06-.94 2.06-2.06.94z\"/><path d=\"M17.41 7.96l-1.37-1.37c-.4-.4-.92-.59-1.43-.59-.52 0-1.04.2-1.43.59L10.3 9.45l-7.72 7.72c-.78.78-.78 2.05 0 2.83L4 21.41c.39.39.9.59 1.41.59.51 0 1.02-.2 1.41-.59l7.78-7.78 2.81-2.81c.8-.78.8-2.07 0-2.86zM5.41 20L4 18.59l7.72-7.72 1.47 1.35L5.41 20z\"/>\n",
              "  </svg>\n",
              "      </button>\n",
              "      \n",
              "  <style>\n",
              "    .colab-df-container {\n",
              "      display:flex;\n",
              "      flex-wrap:wrap;\n",
              "      gap: 12px;\n",
              "    }\n",
              "\n",
              "    .colab-df-convert {\n",
              "      background-color: #E8F0FE;\n",
              "      border: none;\n",
              "      border-radius: 50%;\n",
              "      cursor: pointer;\n",
              "      display: none;\n",
              "      fill: #1967D2;\n",
              "      height: 32px;\n",
              "      padding: 0 0 0 0;\n",
              "      width: 32px;\n",
              "    }\n",
              "\n",
              "    .colab-df-convert:hover {\n",
              "      background-color: #E2EBFA;\n",
              "      box-shadow: 0px 1px 2px rgba(60, 64, 67, 0.3), 0px 1px 3px 1px rgba(60, 64, 67, 0.15);\n",
              "      fill: #174EA6;\n",
              "    }\n",
              "\n",
              "    [theme=dark] .colab-df-convert {\n",
              "      background-color: #3B4455;\n",
              "      fill: #D2E3FC;\n",
              "    }\n",
              "\n",
              "    [theme=dark] .colab-df-convert:hover {\n",
              "      background-color: #434B5C;\n",
              "      box-shadow: 0px 1px 3px 1px rgba(0, 0, 0, 0.15);\n",
              "      filter: drop-shadow(0px 1px 2px rgba(0, 0, 0, 0.3));\n",
              "      fill: #FFFFFF;\n",
              "    }\n",
              "  </style>\n",
              "\n",
              "      <script>\n",
              "        const buttonEl =\n",
              "          document.querySelector('#df-71357bac-7491-44bf-8774-c6d31166a55a button.colab-df-convert');\n",
              "        buttonEl.style.display =\n",
              "          google.colab.kernel.accessAllowed ? 'block' : 'none';\n",
              "\n",
              "        async function convertToInteractive(key) {\n",
              "          const element = document.querySelector('#df-71357bac-7491-44bf-8774-c6d31166a55a');\n",
              "          const dataTable =\n",
              "            await google.colab.kernel.invokeFunction('convertToInteractive',\n",
              "                                                     [key], {});\n",
              "          if (!dataTable) return;\n",
              "\n",
              "          const docLinkHtml = 'Like what you see? Visit the ' +\n",
              "            '<a target=\"_blank\" href=https://colab.research.google.com/notebooks/data_table.ipynb>data table notebook</a>'\n",
              "            + ' to learn more about interactive tables.';\n",
              "          element.innerHTML = '';\n",
              "          dataTable['output_type'] = 'display_data';\n",
              "          await google.colab.output.renderOutput(dataTable, element);\n",
              "          const docLink = document.createElement('div');\n",
              "          docLink.innerHTML = docLinkHtml;\n",
              "          element.appendChild(docLink);\n",
              "        }\n",
              "      </script>\n",
              "    </div>\n",
              "  </div>\n",
              "  "
            ],
            "text/plain": [
              "    sal\n",
              "0  1200\n",
              "1  1600\n",
              "2  5600\n",
              "3  6000\n",
              "4  7000"
            ]
          },
          "metadata": {},
          "execution_count": 148
        }
      ]
    },
    {
      "cell_type": "code",
      "source": [
        "# A회사 연봉의 평균\n",
        "A.mean()"
      ],
      "metadata": {
        "colab": {
          "base_uri": "https://localhost:8080/"
        },
        "id": "kHn_4lvnH4bD",
        "outputId": "0206e9a2-23cf-40ad-b7fc-048c0ef823db"
      },
      "execution_count": null,
      "outputs": [
        {
          "output_type": "execute_result",
          "data": {
            "text/plain": [
              "sal    4280.0\n",
              "dtype: float64"
            ]
          },
          "metadata": {},
          "execution_count": 149
        }
      ]
    },
    {
      "cell_type": "code",
      "source": [
        "# 편차\n",
        "A - A.mean()"
      ],
      "metadata": {
        "colab": {
          "base_uri": "https://localhost:8080/",
          "height": 206
        },
        "id": "WFqZ_8bZH-N8",
        "outputId": "8a2406d3-304d-4403-e6be-d37c9893c40b"
      },
      "execution_count": null,
      "outputs": [
        {
          "output_type": "execute_result",
          "data": {
            "text/html": [
              "\n",
              "  <div id=\"df-e9139ab0-4c23-421c-8d05-7117d5511123\">\n",
              "    <div class=\"colab-df-container\">\n",
              "      <div>\n",
              "<style scoped>\n",
              "    .dataframe tbody tr th:only-of-type {\n",
              "        vertical-align: middle;\n",
              "    }\n",
              "\n",
              "    .dataframe tbody tr th {\n",
              "        vertical-align: top;\n",
              "    }\n",
              "\n",
              "    .dataframe thead th {\n",
              "        text-align: right;\n",
              "    }\n",
              "</style>\n",
              "<table border=\"1\" class=\"dataframe\">\n",
              "  <thead>\n",
              "    <tr style=\"text-align: right;\">\n",
              "      <th></th>\n",
              "      <th>sal</th>\n",
              "    </tr>\n",
              "  </thead>\n",
              "  <tbody>\n",
              "    <tr>\n",
              "      <th>0</th>\n",
              "      <td>-3080.0</td>\n",
              "    </tr>\n",
              "    <tr>\n",
              "      <th>1</th>\n",
              "      <td>-2680.0</td>\n",
              "    </tr>\n",
              "    <tr>\n",
              "      <th>2</th>\n",
              "      <td>1320.0</td>\n",
              "    </tr>\n",
              "    <tr>\n",
              "      <th>3</th>\n",
              "      <td>1720.0</td>\n",
              "    </tr>\n",
              "    <tr>\n",
              "      <th>4</th>\n",
              "      <td>2720.0</td>\n",
              "    </tr>\n",
              "  </tbody>\n",
              "</table>\n",
              "</div>\n",
              "      <button class=\"colab-df-convert\" onclick=\"convertToInteractive('df-e9139ab0-4c23-421c-8d05-7117d5511123')\"\n",
              "              title=\"Convert this dataframe to an interactive table.\"\n",
              "              style=\"display:none;\">\n",
              "        \n",
              "  <svg xmlns=\"http://www.w3.org/2000/svg\" height=\"24px\"viewBox=\"0 0 24 24\"\n",
              "       width=\"24px\">\n",
              "    <path d=\"M0 0h24v24H0V0z\" fill=\"none\"/>\n",
              "    <path d=\"M18.56 5.44l.94 2.06.94-2.06 2.06-.94-2.06-.94-.94-2.06-.94 2.06-2.06.94zm-11 1L8.5 8.5l.94-2.06 2.06-.94-2.06-.94L8.5 2.5l-.94 2.06-2.06.94zm10 10l.94 2.06.94-2.06 2.06-.94-2.06-.94-.94-2.06-.94 2.06-2.06.94z\"/><path d=\"M17.41 7.96l-1.37-1.37c-.4-.4-.92-.59-1.43-.59-.52 0-1.04.2-1.43.59L10.3 9.45l-7.72 7.72c-.78.78-.78 2.05 0 2.83L4 21.41c.39.39.9.59 1.41.59.51 0 1.02-.2 1.41-.59l7.78-7.78 2.81-2.81c.8-.78.8-2.07 0-2.86zM5.41 20L4 18.59l7.72-7.72 1.47 1.35L5.41 20z\"/>\n",
              "  </svg>\n",
              "      </button>\n",
              "      \n",
              "  <style>\n",
              "    .colab-df-container {\n",
              "      display:flex;\n",
              "      flex-wrap:wrap;\n",
              "      gap: 12px;\n",
              "    }\n",
              "\n",
              "    .colab-df-convert {\n",
              "      background-color: #E8F0FE;\n",
              "      border: none;\n",
              "      border-radius: 50%;\n",
              "      cursor: pointer;\n",
              "      display: none;\n",
              "      fill: #1967D2;\n",
              "      height: 32px;\n",
              "      padding: 0 0 0 0;\n",
              "      width: 32px;\n",
              "    }\n",
              "\n",
              "    .colab-df-convert:hover {\n",
              "      background-color: #E2EBFA;\n",
              "      box-shadow: 0px 1px 2px rgba(60, 64, 67, 0.3), 0px 1px 3px 1px rgba(60, 64, 67, 0.15);\n",
              "      fill: #174EA6;\n",
              "    }\n",
              "\n",
              "    [theme=dark] .colab-df-convert {\n",
              "      background-color: #3B4455;\n",
              "      fill: #D2E3FC;\n",
              "    }\n",
              "\n",
              "    [theme=dark] .colab-df-convert:hover {\n",
              "      background-color: #434B5C;\n",
              "      box-shadow: 0px 1px 3px 1px rgba(0, 0, 0, 0.15);\n",
              "      filter: drop-shadow(0px 1px 2px rgba(0, 0, 0, 0.3));\n",
              "      fill: #FFFFFF;\n",
              "    }\n",
              "  </style>\n",
              "\n",
              "      <script>\n",
              "        const buttonEl =\n",
              "          document.querySelector('#df-e9139ab0-4c23-421c-8d05-7117d5511123 button.colab-df-convert');\n",
              "        buttonEl.style.display =\n",
              "          google.colab.kernel.accessAllowed ? 'block' : 'none';\n",
              "\n",
              "        async function convertToInteractive(key) {\n",
              "          const element = document.querySelector('#df-e9139ab0-4c23-421c-8d05-7117d5511123');\n",
              "          const dataTable =\n",
              "            await google.colab.kernel.invokeFunction('convertToInteractive',\n",
              "                                                     [key], {});\n",
              "          if (!dataTable) return;\n",
              "\n",
              "          const docLinkHtml = 'Like what you see? Visit the ' +\n",
              "            '<a target=\"_blank\" href=https://colab.research.google.com/notebooks/data_table.ipynb>data table notebook</a>'\n",
              "            + ' to learn more about interactive tables.';\n",
              "          element.innerHTML = '';\n",
              "          dataTable['output_type'] = 'display_data';\n",
              "          await google.colab.output.renderOutput(dataTable, element);\n",
              "          const docLink = document.createElement('div');\n",
              "          docLink.innerHTML = docLinkHtml;\n",
              "          element.appendChild(docLink);\n",
              "        }\n",
              "      </script>\n",
              "    </div>\n",
              "  </div>\n",
              "  "
            ],
            "text/plain": [
              "      sal\n",
              "0 -3080.0\n",
              "1 -2680.0\n",
              "2  1320.0\n",
              "3  1720.0\n",
              "4  2720.0"
            ]
          },
          "metadata": {},
          "execution_count": 150
        }
      ]
    },
    {
      "cell_type": "code",
      "source": [
        "# B회사 연봉\n",
        "B = pd.DataFrame({'sal':[4000, 4500, 4250, 5000, 3650]})"
      ],
      "metadata": {
        "id": "iRgzj_oLIIM_"
      },
      "execution_count": null,
      "outputs": []
    },
    {
      "cell_type": "code",
      "source": [
        "B"
      ],
      "metadata": {
        "colab": {
          "base_uri": "https://localhost:8080/",
          "height": 206
        },
        "id": "c_tlqX-0ISH1",
        "outputId": "827a5de1-c8de-4f94-d0da-7128a1cdf67c"
      },
      "execution_count": null,
      "outputs": [
        {
          "output_type": "execute_result",
          "data": {
            "text/html": [
              "\n",
              "  <div id=\"df-d1141b6b-d46e-4d2c-a2ea-1886ddb9ba8c\">\n",
              "    <div class=\"colab-df-container\">\n",
              "      <div>\n",
              "<style scoped>\n",
              "    .dataframe tbody tr th:only-of-type {\n",
              "        vertical-align: middle;\n",
              "    }\n",
              "\n",
              "    .dataframe tbody tr th {\n",
              "        vertical-align: top;\n",
              "    }\n",
              "\n",
              "    .dataframe thead th {\n",
              "        text-align: right;\n",
              "    }\n",
              "</style>\n",
              "<table border=\"1\" class=\"dataframe\">\n",
              "  <thead>\n",
              "    <tr style=\"text-align: right;\">\n",
              "      <th></th>\n",
              "      <th>sal</th>\n",
              "    </tr>\n",
              "  </thead>\n",
              "  <tbody>\n",
              "    <tr>\n",
              "      <th>0</th>\n",
              "      <td>4000</td>\n",
              "    </tr>\n",
              "    <tr>\n",
              "      <th>1</th>\n",
              "      <td>4500</td>\n",
              "    </tr>\n",
              "    <tr>\n",
              "      <th>2</th>\n",
              "      <td>4250</td>\n",
              "    </tr>\n",
              "    <tr>\n",
              "      <th>3</th>\n",
              "      <td>5000</td>\n",
              "    </tr>\n",
              "    <tr>\n",
              "      <th>4</th>\n",
              "      <td>3650</td>\n",
              "    </tr>\n",
              "  </tbody>\n",
              "</table>\n",
              "</div>\n",
              "      <button class=\"colab-df-convert\" onclick=\"convertToInteractive('df-d1141b6b-d46e-4d2c-a2ea-1886ddb9ba8c')\"\n",
              "              title=\"Convert this dataframe to an interactive table.\"\n",
              "              style=\"display:none;\">\n",
              "        \n",
              "  <svg xmlns=\"http://www.w3.org/2000/svg\" height=\"24px\"viewBox=\"0 0 24 24\"\n",
              "       width=\"24px\">\n",
              "    <path d=\"M0 0h24v24H0V0z\" fill=\"none\"/>\n",
              "    <path d=\"M18.56 5.44l.94 2.06.94-2.06 2.06-.94-2.06-.94-.94-2.06-.94 2.06-2.06.94zm-11 1L8.5 8.5l.94-2.06 2.06-.94-2.06-.94L8.5 2.5l-.94 2.06-2.06.94zm10 10l.94 2.06.94-2.06 2.06-.94-2.06-.94-.94-2.06-.94 2.06-2.06.94z\"/><path d=\"M17.41 7.96l-1.37-1.37c-.4-.4-.92-.59-1.43-.59-.52 0-1.04.2-1.43.59L10.3 9.45l-7.72 7.72c-.78.78-.78 2.05 0 2.83L4 21.41c.39.39.9.59 1.41.59.51 0 1.02-.2 1.41-.59l7.78-7.78 2.81-2.81c.8-.78.8-2.07 0-2.86zM5.41 20L4 18.59l7.72-7.72 1.47 1.35L5.41 20z\"/>\n",
              "  </svg>\n",
              "      </button>\n",
              "      \n",
              "  <style>\n",
              "    .colab-df-container {\n",
              "      display:flex;\n",
              "      flex-wrap:wrap;\n",
              "      gap: 12px;\n",
              "    }\n",
              "\n",
              "    .colab-df-convert {\n",
              "      background-color: #E8F0FE;\n",
              "      border: none;\n",
              "      border-radius: 50%;\n",
              "      cursor: pointer;\n",
              "      display: none;\n",
              "      fill: #1967D2;\n",
              "      height: 32px;\n",
              "      padding: 0 0 0 0;\n",
              "      width: 32px;\n",
              "    }\n",
              "\n",
              "    .colab-df-convert:hover {\n",
              "      background-color: #E2EBFA;\n",
              "      box-shadow: 0px 1px 2px rgba(60, 64, 67, 0.3), 0px 1px 3px 1px rgba(60, 64, 67, 0.15);\n",
              "      fill: #174EA6;\n",
              "    }\n",
              "\n",
              "    [theme=dark] .colab-df-convert {\n",
              "      background-color: #3B4455;\n",
              "      fill: #D2E3FC;\n",
              "    }\n",
              "\n",
              "    [theme=dark] .colab-df-convert:hover {\n",
              "      background-color: #434B5C;\n",
              "      box-shadow: 0px 1px 3px 1px rgba(0, 0, 0, 0.15);\n",
              "      filter: drop-shadow(0px 1px 2px rgba(0, 0, 0, 0.3));\n",
              "      fill: #FFFFFF;\n",
              "    }\n",
              "  </style>\n",
              "\n",
              "      <script>\n",
              "        const buttonEl =\n",
              "          document.querySelector('#df-d1141b6b-d46e-4d2c-a2ea-1886ddb9ba8c button.colab-df-convert');\n",
              "        buttonEl.style.display =\n",
              "          google.colab.kernel.accessAllowed ? 'block' : 'none';\n",
              "\n",
              "        async function convertToInteractive(key) {\n",
              "          const element = document.querySelector('#df-d1141b6b-d46e-4d2c-a2ea-1886ddb9ba8c');\n",
              "          const dataTable =\n",
              "            await google.colab.kernel.invokeFunction('convertToInteractive',\n",
              "                                                     [key], {});\n",
              "          if (!dataTable) return;\n",
              "\n",
              "          const docLinkHtml = 'Like what you see? Visit the ' +\n",
              "            '<a target=\"_blank\" href=https://colab.research.google.com/notebooks/data_table.ipynb>data table notebook</a>'\n",
              "            + ' to learn more about interactive tables.';\n",
              "          element.innerHTML = '';\n",
              "          dataTable['output_type'] = 'display_data';\n",
              "          await google.colab.output.renderOutput(dataTable, element);\n",
              "          const docLink = document.createElement('div');\n",
              "          docLink.innerHTML = docLinkHtml;\n",
              "          element.appendChild(docLink);\n",
              "        }\n",
              "      </script>\n",
              "    </div>\n",
              "  </div>\n",
              "  "
            ],
            "text/plain": [
              "    sal\n",
              "0  4000\n",
              "1  4500\n",
              "2  4250\n",
              "3  5000\n",
              "4  3650"
            ]
          },
          "metadata": {},
          "execution_count": 152
        }
      ]
    },
    {
      "cell_type": "code",
      "source": [
        "# B회사 연봉의 평균\n",
        "B.mean()"
      ],
      "metadata": {
        "colab": {
          "base_uri": "https://localhost:8080/"
        },
        "id": "qkY5COFqISnM",
        "outputId": "532852a6-bf15-4b63-9c5e-68f70f44c1a5"
      },
      "execution_count": null,
      "outputs": [
        {
          "output_type": "execute_result",
          "data": {
            "text/plain": [
              "sal    4280.0\n",
              "dtype: float64"
            ]
          },
          "metadata": {},
          "execution_count": 153
        }
      ]
    },
    {
      "cell_type": "code",
      "source": [
        "# B회사 월급의 편차\n",
        "B - B.mean()"
      ],
      "metadata": {
        "colab": {
          "base_uri": "https://localhost:8080/",
          "height": 206
        },
        "id": "pkBOOjy9IWeP",
        "outputId": "30efebc3-9355-4efe-8ed6-3ee6a2f71eeb"
      },
      "execution_count": null,
      "outputs": [
        {
          "output_type": "execute_result",
          "data": {
            "text/html": [
              "\n",
              "  <div id=\"df-786ca102-dfbf-494d-8cd2-fcb9a9c0df7d\">\n",
              "    <div class=\"colab-df-container\">\n",
              "      <div>\n",
              "<style scoped>\n",
              "    .dataframe tbody tr th:only-of-type {\n",
              "        vertical-align: middle;\n",
              "    }\n",
              "\n",
              "    .dataframe tbody tr th {\n",
              "        vertical-align: top;\n",
              "    }\n",
              "\n",
              "    .dataframe thead th {\n",
              "        text-align: right;\n",
              "    }\n",
              "</style>\n",
              "<table border=\"1\" class=\"dataframe\">\n",
              "  <thead>\n",
              "    <tr style=\"text-align: right;\">\n",
              "      <th></th>\n",
              "      <th>sal</th>\n",
              "    </tr>\n",
              "  </thead>\n",
              "  <tbody>\n",
              "    <tr>\n",
              "      <th>0</th>\n",
              "      <td>-280.0</td>\n",
              "    </tr>\n",
              "    <tr>\n",
              "      <th>1</th>\n",
              "      <td>220.0</td>\n",
              "    </tr>\n",
              "    <tr>\n",
              "      <th>2</th>\n",
              "      <td>-30.0</td>\n",
              "    </tr>\n",
              "    <tr>\n",
              "      <th>3</th>\n",
              "      <td>720.0</td>\n",
              "    </tr>\n",
              "    <tr>\n",
              "      <th>4</th>\n",
              "      <td>-630.0</td>\n",
              "    </tr>\n",
              "  </tbody>\n",
              "</table>\n",
              "</div>\n",
              "      <button class=\"colab-df-convert\" onclick=\"convertToInteractive('df-786ca102-dfbf-494d-8cd2-fcb9a9c0df7d')\"\n",
              "              title=\"Convert this dataframe to an interactive table.\"\n",
              "              style=\"display:none;\">\n",
              "        \n",
              "  <svg xmlns=\"http://www.w3.org/2000/svg\" height=\"24px\"viewBox=\"0 0 24 24\"\n",
              "       width=\"24px\">\n",
              "    <path d=\"M0 0h24v24H0V0z\" fill=\"none\"/>\n",
              "    <path d=\"M18.56 5.44l.94 2.06.94-2.06 2.06-.94-2.06-.94-.94-2.06-.94 2.06-2.06.94zm-11 1L8.5 8.5l.94-2.06 2.06-.94-2.06-.94L8.5 2.5l-.94 2.06-2.06.94zm10 10l.94 2.06.94-2.06 2.06-.94-2.06-.94-.94-2.06-.94 2.06-2.06.94z\"/><path d=\"M17.41 7.96l-1.37-1.37c-.4-.4-.92-.59-1.43-.59-.52 0-1.04.2-1.43.59L10.3 9.45l-7.72 7.72c-.78.78-.78 2.05 0 2.83L4 21.41c.39.39.9.59 1.41.59.51 0 1.02-.2 1.41-.59l7.78-7.78 2.81-2.81c.8-.78.8-2.07 0-2.86zM5.41 20L4 18.59l7.72-7.72 1.47 1.35L5.41 20z\"/>\n",
              "  </svg>\n",
              "      </button>\n",
              "      \n",
              "  <style>\n",
              "    .colab-df-container {\n",
              "      display:flex;\n",
              "      flex-wrap:wrap;\n",
              "      gap: 12px;\n",
              "    }\n",
              "\n",
              "    .colab-df-convert {\n",
              "      background-color: #E8F0FE;\n",
              "      border: none;\n",
              "      border-radius: 50%;\n",
              "      cursor: pointer;\n",
              "      display: none;\n",
              "      fill: #1967D2;\n",
              "      height: 32px;\n",
              "      padding: 0 0 0 0;\n",
              "      width: 32px;\n",
              "    }\n",
              "\n",
              "    .colab-df-convert:hover {\n",
              "      background-color: #E2EBFA;\n",
              "      box-shadow: 0px 1px 2px rgba(60, 64, 67, 0.3), 0px 1px 3px 1px rgba(60, 64, 67, 0.15);\n",
              "      fill: #174EA6;\n",
              "    }\n",
              "\n",
              "    [theme=dark] .colab-df-convert {\n",
              "      background-color: #3B4455;\n",
              "      fill: #D2E3FC;\n",
              "    }\n",
              "\n",
              "    [theme=dark] .colab-df-convert:hover {\n",
              "      background-color: #434B5C;\n",
              "      box-shadow: 0px 1px 3px 1px rgba(0, 0, 0, 0.15);\n",
              "      filter: drop-shadow(0px 1px 2px rgba(0, 0, 0, 0.3));\n",
              "      fill: #FFFFFF;\n",
              "    }\n",
              "  </style>\n",
              "\n",
              "      <script>\n",
              "        const buttonEl =\n",
              "          document.querySelector('#df-786ca102-dfbf-494d-8cd2-fcb9a9c0df7d button.colab-df-convert');\n",
              "        buttonEl.style.display =\n",
              "          google.colab.kernel.accessAllowed ? 'block' : 'none';\n",
              "\n",
              "        async function convertToInteractive(key) {\n",
              "          const element = document.querySelector('#df-786ca102-dfbf-494d-8cd2-fcb9a9c0df7d');\n",
              "          const dataTable =\n",
              "            await google.colab.kernel.invokeFunction('convertToInteractive',\n",
              "                                                     [key], {});\n",
              "          if (!dataTable) return;\n",
              "\n",
              "          const docLinkHtml = 'Like what you see? Visit the ' +\n",
              "            '<a target=\"_blank\" href=https://colab.research.google.com/notebooks/data_table.ipynb>data table notebook</a>'\n",
              "            + ' to learn more about interactive tables.';\n",
              "          element.innerHTML = '';\n",
              "          dataTable['output_type'] = 'display_data';\n",
              "          await google.colab.output.renderOutput(dataTable, element);\n",
              "          const docLink = document.createElement('div');\n",
              "          docLink.innerHTML = docLinkHtml;\n",
              "          element.appendChild(docLink);\n",
              "        }\n",
              "      </script>\n",
              "    </div>\n",
              "  </div>\n",
              "  "
            ],
            "text/plain": [
              "     sal\n",
              "0 -280.0\n",
              "1  220.0\n",
              "2  -30.0\n",
              "3  720.0\n",
              "4 -630.0"
            ]
          },
          "metadata": {},
          "execution_count": 154
        }
      ]
    },
    {
      "cell_type": "markdown",
      "source": [
        "### 분산\n",
        "- 편차 제곱을 데이터의개수-1 로 나눈것\n",
        "- 데이터의 차이를 하나의 숫자로 나타냄"
      ],
      "metadata": {
        "id": "oP5IUxSrI4IU"
      }
    },
    {
      "cell_type": "code",
      "source": [
        "import math"
      ],
      "metadata": {
        "id": "Op0FWhImIwcu"
      },
      "execution_count": null,
      "outputs": []
    },
    {
      "cell_type": "code",
      "source": [
        "(A-A.mean())**2"
      ],
      "metadata": {
        "colab": {
          "base_uri": "https://localhost:8080/",
          "height": 206
        },
        "id": "WeZoOuvFLoAO",
        "outputId": "90429af8-0e63-4cf2-d02f-3d432c1ea27e"
      },
      "execution_count": null,
      "outputs": [
        {
          "output_type": "execute_result",
          "data": {
            "text/html": [
              "\n",
              "  <div id=\"df-17d4b7b2-4c9a-40d3-87fd-f29c8346ca95\">\n",
              "    <div class=\"colab-df-container\">\n",
              "      <div>\n",
              "<style scoped>\n",
              "    .dataframe tbody tr th:only-of-type {\n",
              "        vertical-align: middle;\n",
              "    }\n",
              "\n",
              "    .dataframe tbody tr th {\n",
              "        vertical-align: top;\n",
              "    }\n",
              "\n",
              "    .dataframe thead th {\n",
              "        text-align: right;\n",
              "    }\n",
              "</style>\n",
              "<table border=\"1\" class=\"dataframe\">\n",
              "  <thead>\n",
              "    <tr style=\"text-align: right;\">\n",
              "      <th></th>\n",
              "      <th>sal</th>\n",
              "    </tr>\n",
              "  </thead>\n",
              "  <tbody>\n",
              "    <tr>\n",
              "      <th>0</th>\n",
              "      <td>9486400.0</td>\n",
              "    </tr>\n",
              "    <tr>\n",
              "      <th>1</th>\n",
              "      <td>7182400.0</td>\n",
              "    </tr>\n",
              "    <tr>\n",
              "      <th>2</th>\n",
              "      <td>1742400.0</td>\n",
              "    </tr>\n",
              "    <tr>\n",
              "      <th>3</th>\n",
              "      <td>2958400.0</td>\n",
              "    </tr>\n",
              "    <tr>\n",
              "      <th>4</th>\n",
              "      <td>7398400.0</td>\n",
              "    </tr>\n",
              "  </tbody>\n",
              "</table>\n",
              "</div>\n",
              "      <button class=\"colab-df-convert\" onclick=\"convertToInteractive('df-17d4b7b2-4c9a-40d3-87fd-f29c8346ca95')\"\n",
              "              title=\"Convert this dataframe to an interactive table.\"\n",
              "              style=\"display:none;\">\n",
              "        \n",
              "  <svg xmlns=\"http://www.w3.org/2000/svg\" height=\"24px\"viewBox=\"0 0 24 24\"\n",
              "       width=\"24px\">\n",
              "    <path d=\"M0 0h24v24H0V0z\" fill=\"none\"/>\n",
              "    <path d=\"M18.56 5.44l.94 2.06.94-2.06 2.06-.94-2.06-.94-.94-2.06-.94 2.06-2.06.94zm-11 1L8.5 8.5l.94-2.06 2.06-.94-2.06-.94L8.5 2.5l-.94 2.06-2.06.94zm10 10l.94 2.06.94-2.06 2.06-.94-2.06-.94-.94-2.06-.94 2.06-2.06.94z\"/><path d=\"M17.41 7.96l-1.37-1.37c-.4-.4-.92-.59-1.43-.59-.52 0-1.04.2-1.43.59L10.3 9.45l-7.72 7.72c-.78.78-.78 2.05 0 2.83L4 21.41c.39.39.9.59 1.41.59.51 0 1.02-.2 1.41-.59l7.78-7.78 2.81-2.81c.8-.78.8-2.07 0-2.86zM5.41 20L4 18.59l7.72-7.72 1.47 1.35L5.41 20z\"/>\n",
              "  </svg>\n",
              "      </button>\n",
              "      \n",
              "  <style>\n",
              "    .colab-df-container {\n",
              "      display:flex;\n",
              "      flex-wrap:wrap;\n",
              "      gap: 12px;\n",
              "    }\n",
              "\n",
              "    .colab-df-convert {\n",
              "      background-color: #E8F0FE;\n",
              "      border: none;\n",
              "      border-radius: 50%;\n",
              "      cursor: pointer;\n",
              "      display: none;\n",
              "      fill: #1967D2;\n",
              "      height: 32px;\n",
              "      padding: 0 0 0 0;\n",
              "      width: 32px;\n",
              "    }\n",
              "\n",
              "    .colab-df-convert:hover {\n",
              "      background-color: #E2EBFA;\n",
              "      box-shadow: 0px 1px 2px rgba(60, 64, 67, 0.3), 0px 1px 3px 1px rgba(60, 64, 67, 0.15);\n",
              "      fill: #174EA6;\n",
              "    }\n",
              "\n",
              "    [theme=dark] .colab-df-convert {\n",
              "      background-color: #3B4455;\n",
              "      fill: #D2E3FC;\n",
              "    }\n",
              "\n",
              "    [theme=dark] .colab-df-convert:hover {\n",
              "      background-color: #434B5C;\n",
              "      box-shadow: 0px 1px 3px 1px rgba(0, 0, 0, 0.15);\n",
              "      filter: drop-shadow(0px 1px 2px rgba(0, 0, 0, 0.3));\n",
              "      fill: #FFFFFF;\n",
              "    }\n",
              "  </style>\n",
              "\n",
              "      <script>\n",
              "        const buttonEl =\n",
              "          document.querySelector('#df-17d4b7b2-4c9a-40d3-87fd-f29c8346ca95 button.colab-df-convert');\n",
              "        buttonEl.style.display =\n",
              "          google.colab.kernel.accessAllowed ? 'block' : 'none';\n",
              "\n",
              "        async function convertToInteractive(key) {\n",
              "          const element = document.querySelector('#df-17d4b7b2-4c9a-40d3-87fd-f29c8346ca95');\n",
              "          const dataTable =\n",
              "            await google.colab.kernel.invokeFunction('convertToInteractive',\n",
              "                                                     [key], {});\n",
              "          if (!dataTable) return;\n",
              "\n",
              "          const docLinkHtml = 'Like what you see? Visit the ' +\n",
              "            '<a target=\"_blank\" href=https://colab.research.google.com/notebooks/data_table.ipynb>data table notebook</a>'\n",
              "            + ' to learn more about interactive tables.';\n",
              "          element.innerHTML = '';\n",
              "          dataTable['output_type'] = 'display_data';\n",
              "          await google.colab.output.renderOutput(dataTable, element);\n",
              "          const docLink = document.createElement('div');\n",
              "          docLink.innerHTML = docLinkHtml;\n",
              "          element.appendChild(docLink);\n",
              "        }\n",
              "      </script>\n",
              "    </div>\n",
              "  </div>\n",
              "  "
            ],
            "text/plain": [
              "         sal\n",
              "0  9486400.0\n",
              "1  7182400.0\n",
              "2  1742400.0\n",
              "3  2958400.0\n",
              "4  7398400.0"
            ]
          },
          "metadata": {},
          "execution_count": 156
        }
      ]
    },
    {
      "cell_type": "markdown",
      "source": [
        "- [자유도(n-1)에 대한 설명](https://m.blog.naver.com/sw4r/221021838997)"
      ],
      "metadata": {
        "id": "YMj_WibPMlOE"
      }
    },
    {
      "cell_type": "code",
      "source": [
        "# A회사의 분산을 계산 : 편차 제곱의 합을 (데이터개수-1)로 나눔\n",
        "((A-A.mean())**2).sum() / (5-1)"
      ],
      "metadata": {
        "colab": {
          "base_uri": "https://localhost:8080/"
        },
        "id": "H8qCw4qpJ6Be",
        "outputId": "b379b043-e90d-4006-879c-6b241a65be71"
      },
      "execution_count": null,
      "outputs": [
        {
          "output_type": "execute_result",
          "data": {
            "text/plain": [
              "sal    7192000.0\n",
              "dtype: float64"
            ]
          },
          "metadata": {},
          "execution_count": 157
        }
      ]
    },
    {
      "cell_type": "code",
      "source": [
        "# B회사의 분산을 계산\n",
        "((B-B.mean())**2).sum() / 4"
      ],
      "metadata": {
        "colab": {
          "base_uri": "https://localhost:8080/"
        },
        "id": "PIgBVIk_KAbh",
        "outputId": "e8aa871e-1dc0-4ae0-da0d-fc4ff8682444"
      },
      "execution_count": null,
      "outputs": [
        {
          "output_type": "execute_result",
          "data": {
            "text/plain": [
              "sal    260750.0\n",
              "dtype: float64"
            ]
          },
          "metadata": {},
          "execution_count": 158
        }
      ]
    },
    {
      "cell_type": "code",
      "source": [
        "# A회사의 분산\n",
        "A.var()"
      ],
      "metadata": {
        "colab": {
          "base_uri": "https://localhost:8080/"
        },
        "id": "4bQEHDwwKKAE",
        "outputId": "1099bf5c-4ae5-4a92-8244-1e0003c7a211"
      },
      "execution_count": null,
      "outputs": [
        {
          "output_type": "execute_result",
          "data": {
            "text/plain": [
              "sal    7192000.0\n",
              "dtype: float64"
            ]
          },
          "metadata": {},
          "execution_count": 159
        }
      ]
    },
    {
      "cell_type": "code",
      "source": [
        "# B회사의 분산\n",
        "B.var()"
      ],
      "metadata": {
        "colab": {
          "base_uri": "https://localhost:8080/"
        },
        "id": "steRQrDkKPNw",
        "outputId": "50077ea7-6b84-4ce8-a6b9-847eea95eab7"
      },
      "execution_count": null,
      "outputs": [
        {
          "output_type": "execute_result",
          "data": {
            "text/plain": [
              "sal    260750.0\n",
              "dtype: float64"
            ]
          },
          "metadata": {},
          "execution_count": 160
        }
      ]
    },
    {
      "cell_type": "markdown",
      "source": [
        "### 표준편차\n",
        "- 분산에 루트를 계산"
      ],
      "metadata": {
        "id": "Lnw1g0h7NR11"
      }
    },
    {
      "cell_type": "code",
      "source": [
        "# A회사의 표준편차 계산\n",
        "math.sqrt( ((A-A.mean())**2).sum() / 4)"
      ],
      "metadata": {
        "colab": {
          "base_uri": "https://localhost:8080/"
        },
        "id": "qWJrLM9yKSHZ",
        "outputId": "c57ab331-b112-455b-b23f-0e672a4e4136"
      },
      "execution_count": null,
      "outputs": [
        {
          "output_type": "execute_result",
          "data": {
            "text/plain": [
              "2681.790446697877"
            ]
          },
          "metadata": {},
          "execution_count": 161
        }
      ]
    },
    {
      "cell_type": "code",
      "source": [
        "# B회사의 표준편차 계산\n",
        "math.sqrt( ((B-B.mean())**2).sum() / 4)"
      ],
      "metadata": {
        "colab": {
          "base_uri": "https://localhost:8080/"
        },
        "id": "MkO0DJ12NiEy",
        "outputId": "0376ed4e-6af0-4a9c-d278-6a4dffc44867"
      },
      "execution_count": null,
      "outputs": [
        {
          "output_type": "execute_result",
          "data": {
            "text/plain": [
              "510.63685726747144"
            ]
          },
          "metadata": {},
          "execution_count": 162
        }
      ]
    },
    {
      "cell_type": "code",
      "source": [
        "# A회사의 표준편차\n",
        "A.std()"
      ],
      "metadata": {
        "colab": {
          "base_uri": "https://localhost:8080/"
        },
        "id": "Y6-54BXoNr0S",
        "outputId": "33644d11-a705-4c4e-9096-036b23312fe5"
      },
      "execution_count": null,
      "outputs": [
        {
          "output_type": "execute_result",
          "data": {
            "text/plain": [
              "sal    2681.790447\n",
              "dtype: float64"
            ]
          },
          "metadata": {},
          "execution_count": 163
        }
      ]
    },
    {
      "cell_type": "code",
      "source": [
        "# B회사의 표준편차\n",
        "B.std()"
      ],
      "metadata": {
        "colab": {
          "base_uri": "https://localhost:8080/"
        },
        "id": "Mm3QTYb_Nu0j",
        "outputId": "66be2bd1-f372-4c39-d8b7-c51842c3a7b6"
      },
      "execution_count": null,
      "outputs": [
        {
          "output_type": "execute_result",
          "data": {
            "text/plain": [
              "sal    510.636857\n",
              "dtype: float64"
            ]
          },
          "metadata": {},
          "execution_count": 164
        }
      ]
    },
    {
      "cell_type": "markdown",
      "source": [
        "### 공분산\n",
        "- 두개의 컬럼 X와 Y가 있을때 컬럼1이 증가할때 컬럼2가 같이 증가하는가 아니면 감소하는가를 나타내는 지표\n",
        "- \"영어 점수가 낮으면 국어점수도 낮은가?\""
      ],
      "metadata": {
        "id": "i8JVZk--OwJE"
      }
    },
    {
      "cell_type": "code",
      "source": [
        "# 영어점수와 국어점수를 저장하는 데이터프레임\n",
        "df01 = pd.DataFrame({'eng_rank':[1,4,2,9,9], 'kor_rank':[3,2,7,3,10]})"
      ],
      "metadata": {
        "id": "DZIo7XF1NxwD"
      },
      "execution_count": null,
      "outputs": []
    },
    {
      "cell_type": "code",
      "source": [
        "# 영어점수 평균\n",
        "eng_mean = df01['eng_rank'].mean()"
      ],
      "metadata": {
        "id": "A6uw9oEDUHg8"
      },
      "execution_count": null,
      "outputs": []
    },
    {
      "cell_type": "code",
      "source": [
        "eng_mean"
      ],
      "metadata": {
        "colab": {
          "base_uri": "https://localhost:8080/"
        },
        "id": "kYAI8VqQUM5s",
        "outputId": "20fd72ed-fd39-4b8e-bc02-f8d631bdebb9"
      },
      "execution_count": null,
      "outputs": [
        {
          "output_type": "execute_result",
          "data": {
            "text/plain": [
              "5.0"
            ]
          },
          "metadata": {},
          "execution_count": 167
        }
      ]
    },
    {
      "cell_type": "code",
      "source": [
        "# 국어점수 평균\n",
        "kor_mean = df01['kor_rank'].mean()"
      ],
      "metadata": {
        "id": "re_-VsnWUUWi"
      },
      "execution_count": null,
      "outputs": []
    },
    {
      "cell_type": "code",
      "source": [
        "kor_mean"
      ],
      "metadata": {
        "colab": {
          "base_uri": "https://localhost:8080/"
        },
        "id": "bbPDiOEBUZGB",
        "outputId": "801de267-08e9-4e77-82da-855dc0027e47"
      },
      "execution_count": null,
      "outputs": [
        {
          "output_type": "execute_result",
          "data": {
            "text/plain": [
              "5.0"
            ]
          },
          "metadata": {},
          "execution_count": 169
        }
      ]
    },
    {
      "cell_type": "code",
      "source": [
        "# 영어 점수에서 영어 점수 평균을 뺌\n",
        "eng_sub = df01['eng_rank'] - eng_mean\n",
        "eng_sub"
      ],
      "metadata": {
        "colab": {
          "base_uri": "https://localhost:8080/"
        },
        "id": "s--Qz3xaUZ9D",
        "outputId": "5ddd57f8-2abe-4c4a-ab20-3e1137610b45"
      },
      "execution_count": null,
      "outputs": [
        {
          "output_type": "execute_result",
          "data": {
            "text/plain": [
              "0   -4.0\n",
              "1   -1.0\n",
              "2   -3.0\n",
              "3    4.0\n",
              "4    4.0\n",
              "Name: eng_rank, dtype: float64"
            ]
          },
          "metadata": {},
          "execution_count": 170
        }
      ]
    },
    {
      "cell_type": "code",
      "source": [
        "# 국어 점수에서 국어 점수 평균을 뺌\n",
        "kor_sub = df01['kor_rank'] - kor_mean\n",
        "kor_sub"
      ],
      "metadata": {
        "colab": {
          "base_uri": "https://localhost:8080/"
        },
        "id": "NUnkz3GqUtW3",
        "outputId": "4461a040-9226-444c-9704-c5f0780a9b5e"
      },
      "execution_count": null,
      "outputs": [
        {
          "output_type": "execute_result",
          "data": {
            "text/plain": [
              "0   -2.0\n",
              "1   -3.0\n",
              "2    2.0\n",
              "3   -2.0\n",
              "4    5.0\n",
              "Name: kor_rank, dtype: float64"
            ]
          },
          "metadata": {},
          "execution_count": 171
        }
      ]
    },
    {
      "cell_type": "code",
      "source": [
        "# 수의 의미: 예를들어 국어는 짱잘하고 영어는 짱못하면 엄청큰 음수 나옴. 국어도 잘하고 영어도 잘하면 양수\n",
        "eng_sub*kor_sub"
      ],
      "metadata": {
        "colab": {
          "base_uri": "https://localhost:8080/"
        },
        "id": "2Vm2genJX3fz",
        "outputId": "551d3933-feaa-41bc-eaf8-affedad2e192"
      },
      "execution_count": null,
      "outputs": [
        {
          "output_type": "execute_result",
          "data": {
            "text/plain": [
              "0     8.0\n",
              "1     3.0\n",
              "2    -6.0\n",
              "3    -8.0\n",
              "4    20.0\n",
              "dtype: float64"
            ]
          },
          "metadata": {},
          "execution_count": 172
        }
      ]
    },
    {
      "cell_type": "code",
      "source": [
        "# 공분산이 0이 아니고 양수: 영어점수가 증가하면 국어점수도 증가. 영어점수 감소하면 국어 점수도 감소.\n",
        "sum(eng_sub*kor_sub) / 4"
      ],
      "metadata": {
        "colab": {
          "base_uri": "https://localhost:8080/"
        },
        "id": "reqRTW2nVMwV",
        "outputId": "1175de38-9718-4b90-ec76-22e2e101520d"
      },
      "execution_count": null,
      "outputs": [
        {
          "output_type": "execute_result",
          "data": {
            "text/plain": [
              "4.25"
            ]
          },
          "metadata": {},
          "execution_count": 173
        }
      ]
    },
    {
      "cell_type": "code",
      "source": [
        "# 공분산 조회\n",
        "df01.cov()"
      ],
      "metadata": {
        "colab": {
          "base_uri": "https://localhost:8080/",
          "height": 112
        },
        "id": "atcbRY51VzQv",
        "outputId": "21dca41c-23db-40ba-cc44-eeee01e7bca5"
      },
      "execution_count": null,
      "outputs": [
        {
          "output_type": "execute_result",
          "data": {
            "text/html": [
              "\n",
              "  <div id=\"df-bd447a22-8822-4d0a-9128-3c030ea345ca\">\n",
              "    <div class=\"colab-df-container\">\n",
              "      <div>\n",
              "<style scoped>\n",
              "    .dataframe tbody tr th:only-of-type {\n",
              "        vertical-align: middle;\n",
              "    }\n",
              "\n",
              "    .dataframe tbody tr th {\n",
              "        vertical-align: top;\n",
              "    }\n",
              "\n",
              "    .dataframe thead th {\n",
              "        text-align: right;\n",
              "    }\n",
              "</style>\n",
              "<table border=\"1\" class=\"dataframe\">\n",
              "  <thead>\n",
              "    <tr style=\"text-align: right;\">\n",
              "      <th></th>\n",
              "      <th>eng_rank</th>\n",
              "      <th>kor_rank</th>\n",
              "    </tr>\n",
              "  </thead>\n",
              "  <tbody>\n",
              "    <tr>\n",
              "      <th>eng_rank</th>\n",
              "      <td>14.50</td>\n",
              "      <td>4.25</td>\n",
              "    </tr>\n",
              "    <tr>\n",
              "      <th>kor_rank</th>\n",
              "      <td>4.25</td>\n",
              "      <td>11.50</td>\n",
              "    </tr>\n",
              "  </tbody>\n",
              "</table>\n",
              "</div>\n",
              "      <button class=\"colab-df-convert\" onclick=\"convertToInteractive('df-bd447a22-8822-4d0a-9128-3c030ea345ca')\"\n",
              "              title=\"Convert this dataframe to an interactive table.\"\n",
              "              style=\"display:none;\">\n",
              "        \n",
              "  <svg xmlns=\"http://www.w3.org/2000/svg\" height=\"24px\"viewBox=\"0 0 24 24\"\n",
              "       width=\"24px\">\n",
              "    <path d=\"M0 0h24v24H0V0z\" fill=\"none\"/>\n",
              "    <path d=\"M18.56 5.44l.94 2.06.94-2.06 2.06-.94-2.06-.94-.94-2.06-.94 2.06-2.06.94zm-11 1L8.5 8.5l.94-2.06 2.06-.94-2.06-.94L8.5 2.5l-.94 2.06-2.06.94zm10 10l.94 2.06.94-2.06 2.06-.94-2.06-.94-.94-2.06-.94 2.06-2.06.94z\"/><path d=\"M17.41 7.96l-1.37-1.37c-.4-.4-.92-.59-1.43-.59-.52 0-1.04.2-1.43.59L10.3 9.45l-7.72 7.72c-.78.78-.78 2.05 0 2.83L4 21.41c.39.39.9.59 1.41.59.51 0 1.02-.2 1.41-.59l7.78-7.78 2.81-2.81c.8-.78.8-2.07 0-2.86zM5.41 20L4 18.59l7.72-7.72 1.47 1.35L5.41 20z\"/>\n",
              "  </svg>\n",
              "      </button>\n",
              "      \n",
              "  <style>\n",
              "    .colab-df-container {\n",
              "      display:flex;\n",
              "      flex-wrap:wrap;\n",
              "      gap: 12px;\n",
              "    }\n",
              "\n",
              "    .colab-df-convert {\n",
              "      background-color: #E8F0FE;\n",
              "      border: none;\n",
              "      border-radius: 50%;\n",
              "      cursor: pointer;\n",
              "      display: none;\n",
              "      fill: #1967D2;\n",
              "      height: 32px;\n",
              "      padding: 0 0 0 0;\n",
              "      width: 32px;\n",
              "    }\n",
              "\n",
              "    .colab-df-convert:hover {\n",
              "      background-color: #E2EBFA;\n",
              "      box-shadow: 0px 1px 2px rgba(60, 64, 67, 0.3), 0px 1px 3px 1px rgba(60, 64, 67, 0.15);\n",
              "      fill: #174EA6;\n",
              "    }\n",
              "\n",
              "    [theme=dark] .colab-df-convert {\n",
              "      background-color: #3B4455;\n",
              "      fill: #D2E3FC;\n",
              "    }\n",
              "\n",
              "    [theme=dark] .colab-df-convert:hover {\n",
              "      background-color: #434B5C;\n",
              "      box-shadow: 0px 1px 3px 1px rgba(0, 0, 0, 0.15);\n",
              "      filter: drop-shadow(0px 1px 2px rgba(0, 0, 0, 0.3));\n",
              "      fill: #FFFFFF;\n",
              "    }\n",
              "  </style>\n",
              "\n",
              "      <script>\n",
              "        const buttonEl =\n",
              "          document.querySelector('#df-bd447a22-8822-4d0a-9128-3c030ea345ca button.colab-df-convert');\n",
              "        buttonEl.style.display =\n",
              "          google.colab.kernel.accessAllowed ? 'block' : 'none';\n",
              "\n",
              "        async function convertToInteractive(key) {\n",
              "          const element = document.querySelector('#df-bd447a22-8822-4d0a-9128-3c030ea345ca');\n",
              "          const dataTable =\n",
              "            await google.colab.kernel.invokeFunction('convertToInteractive',\n",
              "                                                     [key], {});\n",
              "          if (!dataTable) return;\n",
              "\n",
              "          const docLinkHtml = 'Like what you see? Visit the ' +\n",
              "            '<a target=\"_blank\" href=https://colab.research.google.com/notebooks/data_table.ipynb>data table notebook</a>'\n",
              "            + ' to learn more about interactive tables.';\n",
              "          element.innerHTML = '';\n",
              "          dataTable['output_type'] = 'display_data';\n",
              "          await google.colab.output.renderOutput(dataTable, element);\n",
              "          const docLink = document.createElement('div');\n",
              "          docLink.innerHTML = docLinkHtml;\n",
              "          element.appendChild(docLink);\n",
              "        }\n",
              "      </script>\n",
              "    </div>\n",
              "  </div>\n",
              "  "
            ],
            "text/plain": [
              "          eng_rank  kor_rank\n",
              "eng_rank     14.50      4.25\n",
              "kor_rank      4.25     11.50"
            ]
          },
          "metadata": {},
          "execution_count": 174
        }
      ]
    },
    {
      "cell_type": "code",
      "source": [
        "# 왼쪽부터 대각선은 영어의 분산, 국어의 분산\n",
        "print(df01['eng_rank'].var())\n",
        "print(df01['kor_rank'].std() ** 2)"
      ],
      "metadata": {
        "colab": {
          "base_uri": "https://localhost:8080/"
        },
        "id": "0zgk-54eOOjh",
        "outputId": "550a8750-d971-4df7-b59b-8f1d521d591e"
      },
      "execution_count": null,
      "outputs": [
        {
          "output_type": "stream",
          "name": "stdout",
          "text": [
            "14.5\n",
            "11.5\n"
          ]
        }
      ]
    },
    {
      "cell_type": "markdown",
      "source": [
        "### 상관관계\n",
        "- 공분산을 X와 Y의 표준편차(X, Y에 저장된 값들의 차이)로 나눠서 비율을 조회\n",
        "- 숫자값이 저장된 컬럼 사이의 상관관계를 계산"
      ],
      "metadata": {
        "id": "9bnd5YlsdRBC"
      }
    },
    {
      "cell_type": "markdown",
      "source": [
        "![image.png](data:image/png;base64,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)"
      ],
      "metadata": {
        "id": "q7m4fEH_depz"
      }
    },
    {
      "cell_type": "markdown",
      "source": [
        "#### 상관 관계의 계산\n",
        "![image.png](data:image/png;base64,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)"
      ],
      "metadata": {
        "id": "wstCArlNgxKa"
      }
    },
    {
      "cell_type": "code",
      "source": [
        "( df01['eng_rank'] - 5 ) ** 2"
      ],
      "metadata": {
        "colab": {
          "base_uri": "https://localhost:8080/"
        },
        "id": "4-EH-oiZWIof",
        "outputId": "56d89cce-5943-4dfb-fd65-6def67f217a7"
      },
      "execution_count": null,
      "outputs": [
        {
          "output_type": "execute_result",
          "data": {
            "text/plain": [
              "0    16\n",
              "1     1\n",
              "2     9\n",
              "3    16\n",
              "4    16\n",
              "Name: eng_rank, dtype: int64"
            ]
          },
          "metadata": {},
          "execution_count": 176
        }
      ]
    },
    {
      "cell_type": "code",
      "source": [
        "( df01['kor_rank'] - 5 ) ** 2"
      ],
      "metadata": {
        "colab": {
          "base_uri": "https://localhost:8080/"
        },
        "id": "bRrtBmqfeklG",
        "outputId": "07133552-25b4-41aa-8101-0afe88bbc00a"
      },
      "execution_count": null,
      "outputs": [
        {
          "output_type": "execute_result",
          "data": {
            "text/plain": [
              "0     4\n",
              "1     9\n",
              "2     4\n",
              "3     4\n",
              "4    25\n",
              "Name: kor_rank, dtype: int64"
            ]
          },
          "metadata": {},
          "execution_count": 177
        }
      ]
    },
    {
      "cell_type": "code",
      "source": [
        "# 영어점수의 분산\n",
        "sum(( df01['eng_rank'] - 5 ) ** 2) / 4"
      ],
      "metadata": {
        "colab": {
          "base_uri": "https://localhost:8080/"
        },
        "id": "cfvpACOvemFR",
        "outputId": "b02790d9-5498-4d32-a750-12299a7392c0"
      },
      "execution_count": null,
      "outputs": [
        {
          "output_type": "execute_result",
          "data": {
            "text/plain": [
              "14.5"
            ]
          },
          "metadata": {},
          "execution_count": 178
        }
      ]
    },
    {
      "cell_type": "code",
      "source": [
        "# 국어점수의 분산\n",
        "sum(( df01['kor_rank'] - 5 ) ** 2) / 4"
      ],
      "metadata": {
        "colab": {
          "base_uri": "https://localhost:8080/"
        },
        "id": "MCI2wGNfetOs",
        "outputId": "4d36db6b-8e29-443e-bb09-b3c3cf997457"
      },
      "execution_count": null,
      "outputs": [
        {
          "output_type": "execute_result",
          "data": {
            "text/plain": [
              "11.5"
            ]
          },
          "metadata": {},
          "execution_count": 179
        }
      ]
    },
    {
      "cell_type": "code",
      "source": [
        "# 영어점수의 표준편차\n",
        "math.sqrt(sum(( df01['eng_rank'] - 5 ) ** 2) / 4)"
      ],
      "metadata": {
        "colab": {
          "base_uri": "https://localhost:8080/"
        },
        "id": "L81-qjYDevvn",
        "outputId": "b3fe7a17-9b55-4d43-b0c9-2c8727251b51"
      },
      "execution_count": null,
      "outputs": [
        {
          "output_type": "execute_result",
          "data": {
            "text/plain": [
              "3.8078865529319543"
            ]
          },
          "metadata": {},
          "execution_count": 180
        }
      ]
    },
    {
      "cell_type": "code",
      "source": [
        "# 국어점수의 표준편차\n",
        "math.sqrt(sum(( df01['kor_rank'] - 5 ) ** 2) / 4)"
      ],
      "metadata": {
        "colab": {
          "base_uri": "https://localhost:8080/"
        },
        "id": "eAn0IQtbfGK6",
        "outputId": "0e12982f-a5b8-410e-9231-1dd107826ae3"
      },
      "execution_count": null,
      "outputs": [
        {
          "output_type": "execute_result",
          "data": {
            "text/plain": [
              "3.391164991562634"
            ]
          },
          "metadata": {},
          "execution_count": 181
        }
      ]
    },
    {
      "cell_type": "code",
      "source": [
        "# 상관관계 조회\n",
        "df01.cov() / (df01['eng_rank'].std() * df01['kor_rank'].std())"
      ],
      "metadata": {
        "colab": {
          "base_uri": "https://localhost:8080/",
          "height": 112
        },
        "id": "KQNpeYqcfT77",
        "outputId": "4f434f76-43e1-4503-9946-b1dce941fe26"
      },
      "execution_count": null,
      "outputs": [
        {
          "output_type": "execute_result",
          "data": {
            "text/html": [
              "\n",
              "  <div id=\"df-8c43bcee-7a82-4073-b40b-7369b7b9297c\">\n",
              "    <div class=\"colab-df-container\">\n",
              "      <div>\n",
              "<style scoped>\n",
              "    .dataframe tbody tr th:only-of-type {\n",
              "        vertical-align: middle;\n",
              "    }\n",
              "\n",
              "    .dataframe tbody tr th {\n",
              "        vertical-align: top;\n",
              "    }\n",
              "\n",
              "    .dataframe thead th {\n",
              "        text-align: right;\n",
              "    }\n",
              "</style>\n",
              "<table border=\"1\" class=\"dataframe\">\n",
              "  <thead>\n",
              "    <tr style=\"text-align: right;\">\n",
              "      <th></th>\n",
              "      <th>eng_rank</th>\n",
              "      <th>kor_rank</th>\n",
              "    </tr>\n",
              "  </thead>\n",
              "  <tbody>\n",
              "    <tr>\n",
              "      <th>eng_rank</th>\n",
              "      <td>1.122884</td>\n",
              "      <td>0.329121</td>\n",
              "    </tr>\n",
              "    <tr>\n",
              "      <th>kor_rank</th>\n",
              "      <td>0.329121</td>\n",
              "      <td>0.890564</td>\n",
              "    </tr>\n",
              "  </tbody>\n",
              "</table>\n",
              "</div>\n",
              "      <button class=\"colab-df-convert\" onclick=\"convertToInteractive('df-8c43bcee-7a82-4073-b40b-7369b7b9297c')\"\n",
              "              title=\"Convert this dataframe to an interactive table.\"\n",
              "              style=\"display:none;\">\n",
              "        \n",
              "  <svg xmlns=\"http://www.w3.org/2000/svg\" height=\"24px\"viewBox=\"0 0 24 24\"\n",
              "       width=\"24px\">\n",
              "    <path d=\"M0 0h24v24H0V0z\" fill=\"none\"/>\n",
              "    <path d=\"M18.56 5.44l.94 2.06.94-2.06 2.06-.94-2.06-.94-.94-2.06-.94 2.06-2.06.94zm-11 1L8.5 8.5l.94-2.06 2.06-.94-2.06-.94L8.5 2.5l-.94 2.06-2.06.94zm10 10l.94 2.06.94-2.06 2.06-.94-2.06-.94-.94-2.06-.94 2.06-2.06.94z\"/><path d=\"M17.41 7.96l-1.37-1.37c-.4-.4-.92-.59-1.43-.59-.52 0-1.04.2-1.43.59L10.3 9.45l-7.72 7.72c-.78.78-.78 2.05 0 2.83L4 21.41c.39.39.9.59 1.41.59.51 0 1.02-.2 1.41-.59l7.78-7.78 2.81-2.81c.8-.78.8-2.07 0-2.86zM5.41 20L4 18.59l7.72-7.72 1.47 1.35L5.41 20z\"/>\n",
              "  </svg>\n",
              "      </button>\n",
              "      \n",
              "  <style>\n",
              "    .colab-df-container {\n",
              "      display:flex;\n",
              "      flex-wrap:wrap;\n",
              "      gap: 12px;\n",
              "    }\n",
              "\n",
              "    .colab-df-convert {\n",
              "      background-color: #E8F0FE;\n",
              "      border: none;\n",
              "      border-radius: 50%;\n",
              "      cursor: pointer;\n",
              "      display: none;\n",
              "      fill: #1967D2;\n",
              "      height: 32px;\n",
              "      padding: 0 0 0 0;\n",
              "      width: 32px;\n",
              "    }\n",
              "\n",
              "    .colab-df-convert:hover {\n",
              "      background-color: #E2EBFA;\n",
              "      box-shadow: 0px 1px 2px rgba(60, 64, 67, 0.3), 0px 1px 3px 1px rgba(60, 64, 67, 0.15);\n",
              "      fill: #174EA6;\n",
              "    }\n",
              "\n",
              "    [theme=dark] .colab-df-convert {\n",
              "      background-color: #3B4455;\n",
              "      fill: #D2E3FC;\n",
              "    }\n",
              "\n",
              "    [theme=dark] .colab-df-convert:hover {\n",
              "      background-color: #434B5C;\n",
              "      box-shadow: 0px 1px 3px 1px rgba(0, 0, 0, 0.15);\n",
              "      filter: drop-shadow(0px 1px 2px rgba(0, 0, 0, 0.3));\n",
              "      fill: #FFFFFF;\n",
              "    }\n",
              "  </style>\n",
              "\n",
              "      <script>\n",
              "        const buttonEl =\n",
              "          document.querySelector('#df-8c43bcee-7a82-4073-b40b-7369b7b9297c button.colab-df-convert');\n",
              "        buttonEl.style.display =\n",
              "          google.colab.kernel.accessAllowed ? 'block' : 'none';\n",
              "\n",
              "        async function convertToInteractive(key) {\n",
              "          const element = document.querySelector('#df-8c43bcee-7a82-4073-b40b-7369b7b9297c');\n",
              "          const dataTable =\n",
              "            await google.colab.kernel.invokeFunction('convertToInteractive',\n",
              "                                                     [key], {});\n",
              "          if (!dataTable) return;\n",
              "\n",
              "          const docLinkHtml = 'Like what you see? Visit the ' +\n",
              "            '<a target=\"_blank\" href=https://colab.research.google.com/notebooks/data_table.ipynb>data table notebook</a>'\n",
              "            + ' to learn more about interactive tables.';\n",
              "          element.innerHTML = '';\n",
              "          dataTable['output_type'] = 'display_data';\n",
              "          await google.colab.output.renderOutput(dataTable, element);\n",
              "          const docLink = document.createElement('div');\n",
              "          docLink.innerHTML = docLinkHtml;\n",
              "          element.appendChild(docLink);\n",
              "        }\n",
              "      </script>\n",
              "    </div>\n",
              "  </div>\n",
              "  "
            ],
            "text/plain": [
              "          eng_rank  kor_rank\n",
              "eng_rank  1.122884  0.329121\n",
              "kor_rank  0.329121  0.890564"
            ]
          },
          "metadata": {},
          "execution_count": 182
        }
      ]
    },
    {
      "cell_type": "code",
      "source": [
        "# 상관관계 조회\n",
        "df01.corr()"
      ],
      "metadata": {
        "colab": {
          "base_uri": "https://localhost:8080/",
          "height": 112
        },
        "id": "fPgpymsOfdlw",
        "outputId": "e23e9d2e-0666-4590-b478-ebfa1892ffc3"
      },
      "execution_count": null,
      "outputs": [
        {
          "output_type": "execute_result",
          "data": {
            "text/html": [
              "\n",
              "  <div id=\"df-cad09545-1f70-4363-bfa8-6ad4dc43ad69\">\n",
              "    <div class=\"colab-df-container\">\n",
              "      <div>\n",
              "<style scoped>\n",
              "    .dataframe tbody tr th:only-of-type {\n",
              "        vertical-align: middle;\n",
              "    }\n",
              "\n",
              "    .dataframe tbody tr th {\n",
              "        vertical-align: top;\n",
              "    }\n",
              "\n",
              "    .dataframe thead th {\n",
              "        text-align: right;\n",
              "    }\n",
              "</style>\n",
              "<table border=\"1\" class=\"dataframe\">\n",
              "  <thead>\n",
              "    <tr style=\"text-align: right;\">\n",
              "      <th></th>\n",
              "      <th>eng_rank</th>\n",
              "      <th>kor_rank</th>\n",
              "    </tr>\n",
              "  </thead>\n",
              "  <tbody>\n",
              "    <tr>\n",
              "      <th>eng_rank</th>\n",
              "      <td>1.000000</td>\n",
              "      <td>0.329121</td>\n",
              "    </tr>\n",
              "    <tr>\n",
              "      <th>kor_rank</th>\n",
              "      <td>0.329121</td>\n",
              "      <td>1.000000</td>\n",
              "    </tr>\n",
              "  </tbody>\n",
              "</table>\n",
              "</div>\n",
              "      <button class=\"colab-df-convert\" onclick=\"convertToInteractive('df-cad09545-1f70-4363-bfa8-6ad4dc43ad69')\"\n",
              "              title=\"Convert this dataframe to an interactive table.\"\n",
              "              style=\"display:none;\">\n",
              "        \n",
              "  <svg xmlns=\"http://www.w3.org/2000/svg\" height=\"24px\"viewBox=\"0 0 24 24\"\n",
              "       width=\"24px\">\n",
              "    <path d=\"M0 0h24v24H0V0z\" fill=\"none\"/>\n",
              "    <path d=\"M18.56 5.44l.94 2.06.94-2.06 2.06-.94-2.06-.94-.94-2.06-.94 2.06-2.06.94zm-11 1L8.5 8.5l.94-2.06 2.06-.94-2.06-.94L8.5 2.5l-.94 2.06-2.06.94zm10 10l.94 2.06.94-2.06 2.06-.94-2.06-.94-.94-2.06-.94 2.06-2.06.94z\"/><path d=\"M17.41 7.96l-1.37-1.37c-.4-.4-.92-.59-1.43-.59-.52 0-1.04.2-1.43.59L10.3 9.45l-7.72 7.72c-.78.78-.78 2.05 0 2.83L4 21.41c.39.39.9.59 1.41.59.51 0 1.02-.2 1.41-.59l7.78-7.78 2.81-2.81c.8-.78.8-2.07 0-2.86zM5.41 20L4 18.59l7.72-7.72 1.47 1.35L5.41 20z\"/>\n",
              "  </svg>\n",
              "      </button>\n",
              "      \n",
              "  <style>\n",
              "    .colab-df-container {\n",
              "      display:flex;\n",
              "      flex-wrap:wrap;\n",
              "      gap: 12px;\n",
              "    }\n",
              "\n",
              "    .colab-df-convert {\n",
              "      background-color: #E8F0FE;\n",
              "      border: none;\n",
              "      border-radius: 50%;\n",
              "      cursor: pointer;\n",
              "      display: none;\n",
              "      fill: #1967D2;\n",
              "      height: 32px;\n",
              "      padding: 0 0 0 0;\n",
              "      width: 32px;\n",
              "    }\n",
              "\n",
              "    .colab-df-convert:hover {\n",
              "      background-color: #E2EBFA;\n",
              "      box-shadow: 0px 1px 2px rgba(60, 64, 67, 0.3), 0px 1px 3px 1px rgba(60, 64, 67, 0.15);\n",
              "      fill: #174EA6;\n",
              "    }\n",
              "\n",
              "    [theme=dark] .colab-df-convert {\n",
              "      background-color: #3B4455;\n",
              "      fill: #D2E3FC;\n",
              "    }\n",
              "\n",
              "    [theme=dark] .colab-df-convert:hover {\n",
              "      background-color: #434B5C;\n",
              "      box-shadow: 0px 1px 3px 1px rgba(0, 0, 0, 0.15);\n",
              "      filter: drop-shadow(0px 1px 2px rgba(0, 0, 0, 0.3));\n",
              "      fill: #FFFFFF;\n",
              "    }\n",
              "  </style>\n",
              "\n",
              "      <script>\n",
              "        const buttonEl =\n",
              "          document.querySelector('#df-cad09545-1f70-4363-bfa8-6ad4dc43ad69 button.colab-df-convert');\n",
              "        buttonEl.style.display =\n",
              "          google.colab.kernel.accessAllowed ? 'block' : 'none';\n",
              "\n",
              "        async function convertToInteractive(key) {\n",
              "          const element = document.querySelector('#df-cad09545-1f70-4363-bfa8-6ad4dc43ad69');\n",
              "          const dataTable =\n",
              "            await google.colab.kernel.invokeFunction('convertToInteractive',\n",
              "                                                     [key], {});\n",
              "          if (!dataTable) return;\n",
              "\n",
              "          const docLinkHtml = 'Like what you see? Visit the ' +\n",
              "            '<a target=\"_blank\" href=https://colab.research.google.com/notebooks/data_table.ipynb>data table notebook</a>'\n",
              "            + ' to learn more about interactive tables.';\n",
              "          element.innerHTML = '';\n",
              "          dataTable['output_type'] = 'display_data';\n",
              "          await google.colab.output.renderOutput(dataTable, element);\n",
              "          const docLink = document.createElement('div');\n",
              "          docLink.innerHTML = docLinkHtml;\n",
              "          element.appendChild(docLink);\n",
              "        }\n",
              "      </script>\n",
              "    </div>\n",
              "  </div>\n",
              "  "
            ],
            "text/plain": [
              "          eng_rank  kor_rank\n",
              "eng_rank  1.000000  0.329121\n",
              "kor_rank  0.329121  1.000000"
            ]
          },
          "metadata": {},
          "execution_count": 183
        }
      ]
    },
    {
      "cell_type": "markdown",
      "source": [
        "#### 예: 영어점수와 국어점수가 같다면 상관계수는?\n",
        "- 영어 평균 3, 국어평균 3"
      ],
      "metadata": {
        "id": "gvyTZRG3GpnT"
      }
    },
    {
      "cell_type": "code",
      "source": [
        "df01 = pd.DataFrame({\n",
        "    'eng_rank': [1,2,3,4,5],\n",
        "    'kor_rank': [1,2,3,4,5]\n",
        "})"
      ],
      "metadata": {
        "id": "K_CItNMUfp5E"
      },
      "execution_count": null,
      "outputs": []
    },
    {
      "cell_type": "code",
      "source": [
        "# 영어 편차 (영어 - 영어 평균)\n",
        "df01['eng_rank'] - 3"
      ],
      "metadata": {
        "colab": {
          "base_uri": "https://localhost:8080/"
        },
        "id": "cKIrmHqVHFgX",
        "outputId": "f7abfdf2-4c31-4bcc-ece7-75f56ba0d348"
      },
      "execution_count": null,
      "outputs": [
        {
          "output_type": "execute_result",
          "data": {
            "text/plain": [
              "0   -2\n",
              "1   -1\n",
              "2    0\n",
              "3    1\n",
              "4    2\n",
              "Name: eng_rank, dtype: int64"
            ]
          },
          "metadata": {},
          "execution_count": 185
        }
      ]
    },
    {
      "cell_type": "code",
      "source": [
        "# 국어 편차 (국어 - 국어 평균)\n",
        "df01['kor_rank'] - 3"
      ],
      "metadata": {
        "colab": {
          "base_uri": "https://localhost:8080/"
        },
        "id": "Pm8F9e7wHHyW",
        "outputId": "cff894d1-83b8-4826-ef0d-399527c8c0a7"
      },
      "execution_count": null,
      "outputs": [
        {
          "output_type": "execute_result",
          "data": {
            "text/plain": [
              "0   -2\n",
              "1   -1\n",
              "2    0\n",
              "3    1\n",
              "4    2\n",
              "Name: kor_rank, dtype: int64"
            ]
          },
          "metadata": {},
          "execution_count": 186
        }
      ]
    },
    {
      "cell_type": "code",
      "source": [
        "# 대각선이 공분산\n",
        "df01.cov()"
      ],
      "metadata": {
        "colab": {
          "base_uri": "https://localhost:8080/",
          "height": 112
        },
        "id": "LCad_S98MqUJ",
        "outputId": "b6fa8327-9eb5-456d-8c16-521619725b42"
      },
      "execution_count": null,
      "outputs": [
        {
          "output_type": "execute_result",
          "data": {
            "text/html": [
              "\n",
              "  <div id=\"df-7aedfa32-806a-4c82-8c0c-fca7716ff9ee\">\n",
              "    <div class=\"colab-df-container\">\n",
              "      <div>\n",
              "<style scoped>\n",
              "    .dataframe tbody tr th:only-of-type {\n",
              "        vertical-align: middle;\n",
              "    }\n",
              "\n",
              "    .dataframe tbody tr th {\n",
              "        vertical-align: top;\n",
              "    }\n",
              "\n",
              "    .dataframe thead th {\n",
              "        text-align: right;\n",
              "    }\n",
              "</style>\n",
              "<table border=\"1\" class=\"dataframe\">\n",
              "  <thead>\n",
              "    <tr style=\"text-align: right;\">\n",
              "      <th></th>\n",
              "      <th>eng_rank</th>\n",
              "      <th>kor_rank</th>\n",
              "    </tr>\n",
              "  </thead>\n",
              "  <tbody>\n",
              "    <tr>\n",
              "      <th>eng_rank</th>\n",
              "      <td>2.5</td>\n",
              "      <td>2.5</td>\n",
              "    </tr>\n",
              "    <tr>\n",
              "      <th>kor_rank</th>\n",
              "      <td>2.5</td>\n",
              "      <td>2.5</td>\n",
              "    </tr>\n",
              "  </tbody>\n",
              "</table>\n",
              "</div>\n",
              "      <button class=\"colab-df-convert\" onclick=\"convertToInteractive('df-7aedfa32-806a-4c82-8c0c-fca7716ff9ee')\"\n",
              "              title=\"Convert this dataframe to an interactive table.\"\n",
              "              style=\"display:none;\">\n",
              "        \n",
              "  <svg xmlns=\"http://www.w3.org/2000/svg\" height=\"24px\"viewBox=\"0 0 24 24\"\n",
              "       width=\"24px\">\n",
              "    <path d=\"M0 0h24v24H0V0z\" fill=\"none\"/>\n",
              "    <path d=\"M18.56 5.44l.94 2.06.94-2.06 2.06-.94-2.06-.94-.94-2.06-.94 2.06-2.06.94zm-11 1L8.5 8.5l.94-2.06 2.06-.94-2.06-.94L8.5 2.5l-.94 2.06-2.06.94zm10 10l.94 2.06.94-2.06 2.06-.94-2.06-.94-.94-2.06-.94 2.06-2.06.94z\"/><path d=\"M17.41 7.96l-1.37-1.37c-.4-.4-.92-.59-1.43-.59-.52 0-1.04.2-1.43.59L10.3 9.45l-7.72 7.72c-.78.78-.78 2.05 0 2.83L4 21.41c.39.39.9.59 1.41.59.51 0 1.02-.2 1.41-.59l7.78-7.78 2.81-2.81c.8-.78.8-2.07 0-2.86zM5.41 20L4 18.59l7.72-7.72 1.47 1.35L5.41 20z\"/>\n",
              "  </svg>\n",
              "      </button>\n",
              "      \n",
              "  <style>\n",
              "    .colab-df-container {\n",
              "      display:flex;\n",
              "      flex-wrap:wrap;\n",
              "      gap: 12px;\n",
              "    }\n",
              "\n",
              "    .colab-df-convert {\n",
              "      background-color: #E8F0FE;\n",
              "      border: none;\n",
              "      border-radius: 50%;\n",
              "      cursor: pointer;\n",
              "      display: none;\n",
              "      fill: #1967D2;\n",
              "      height: 32px;\n",
              "      padding: 0 0 0 0;\n",
              "      width: 32px;\n",
              "    }\n",
              "\n",
              "    .colab-df-convert:hover {\n",
              "      background-color: #E2EBFA;\n",
              "      box-shadow: 0px 1px 2px rgba(60, 64, 67, 0.3), 0px 1px 3px 1px rgba(60, 64, 67, 0.15);\n",
              "      fill: #174EA6;\n",
              "    }\n",
              "\n",
              "    [theme=dark] .colab-df-convert {\n",
              "      background-color: #3B4455;\n",
              "      fill: #D2E3FC;\n",
              "    }\n",
              "\n",
              "    [theme=dark] .colab-df-convert:hover {\n",
              "      background-color: #434B5C;\n",
              "      box-shadow: 0px 1px 3px 1px rgba(0, 0, 0, 0.15);\n",
              "      filter: drop-shadow(0px 1px 2px rgba(0, 0, 0, 0.3));\n",
              "      fill: #FFFFFF;\n",
              "    }\n",
              "  </style>\n",
              "\n",
              "      <script>\n",
              "        const buttonEl =\n",
              "          document.querySelector('#df-7aedfa32-806a-4c82-8c0c-fca7716ff9ee button.colab-df-convert');\n",
              "        buttonEl.style.display =\n",
              "          google.colab.kernel.accessAllowed ? 'block' : 'none';\n",
              "\n",
              "        async function convertToInteractive(key) {\n",
              "          const element = document.querySelector('#df-7aedfa32-806a-4c82-8c0c-fca7716ff9ee');\n",
              "          const dataTable =\n",
              "            await google.colab.kernel.invokeFunction('convertToInteractive',\n",
              "                                                     [key], {});\n",
              "          if (!dataTable) return;\n",
              "\n",
              "          const docLinkHtml = 'Like what you see? Visit the ' +\n",
              "            '<a target=\"_blank\" href=https://colab.research.google.com/notebooks/data_table.ipynb>data table notebook</a>'\n",
              "            + ' to learn more about interactive tables.';\n",
              "          element.innerHTML = '';\n",
              "          dataTable['output_type'] = 'display_data';\n",
              "          await google.colab.output.renderOutput(dataTable, element);\n",
              "          const docLink = document.createElement('div');\n",
              "          docLink.innerHTML = docLinkHtml;\n",
              "          element.appendChild(docLink);\n",
              "        }\n",
              "      </script>\n",
              "    </div>\n",
              "  </div>\n",
              "  "
            ],
            "text/plain": [
              "          eng_rank  kor_rank\n",
              "eng_rank       2.5       2.5\n",
              "kor_rank       2.5       2.5"
            ]
          },
          "metadata": {},
          "execution_count": 187
        }
      ]
    },
    {
      "cell_type": "code",
      "source": [
        "# 두 점수가 같을 때 상관계수는 1이 된다.\n",
        "df01.cov() / (df01['eng_rank'].std()*df01['kor_rank'].std())"
      ],
      "metadata": {
        "colab": {
          "base_uri": "https://localhost:8080/",
          "height": 112
        },
        "id": "spQXJlDXIJyJ",
        "outputId": "076bc6e7-ec60-4062-d6ea-872daa33fe13"
      },
      "execution_count": null,
      "outputs": [
        {
          "output_type": "execute_result",
          "data": {
            "text/html": [
              "\n",
              "  <div id=\"df-eea56cf4-3239-4c67-b334-af7aea94bc2a\">\n",
              "    <div class=\"colab-df-container\">\n",
              "      <div>\n",
              "<style scoped>\n",
              "    .dataframe tbody tr th:only-of-type {\n",
              "        vertical-align: middle;\n",
              "    }\n",
              "\n",
              "    .dataframe tbody tr th {\n",
              "        vertical-align: top;\n",
              "    }\n",
              "\n",
              "    .dataframe thead th {\n",
              "        text-align: right;\n",
              "    }\n",
              "</style>\n",
              "<table border=\"1\" class=\"dataframe\">\n",
              "  <thead>\n",
              "    <tr style=\"text-align: right;\">\n",
              "      <th></th>\n",
              "      <th>eng_rank</th>\n",
              "      <th>kor_rank</th>\n",
              "    </tr>\n",
              "  </thead>\n",
              "  <tbody>\n",
              "    <tr>\n",
              "      <th>eng_rank</th>\n",
              "      <td>1.0</td>\n",
              "      <td>1.0</td>\n",
              "    </tr>\n",
              "    <tr>\n",
              "      <th>kor_rank</th>\n",
              "      <td>1.0</td>\n",
              "      <td>1.0</td>\n",
              "    </tr>\n",
              "  </tbody>\n",
              "</table>\n",
              "</div>\n",
              "      <button class=\"colab-df-convert\" onclick=\"convertToInteractive('df-eea56cf4-3239-4c67-b334-af7aea94bc2a')\"\n",
              "              title=\"Convert this dataframe to an interactive table.\"\n",
              "              style=\"display:none;\">\n",
              "        \n",
              "  <svg xmlns=\"http://www.w3.org/2000/svg\" height=\"24px\"viewBox=\"0 0 24 24\"\n",
              "       width=\"24px\">\n",
              "    <path d=\"M0 0h24v24H0V0z\" fill=\"none\"/>\n",
              "    <path d=\"M18.56 5.44l.94 2.06.94-2.06 2.06-.94-2.06-.94-.94-2.06-.94 2.06-2.06.94zm-11 1L8.5 8.5l.94-2.06 2.06-.94-2.06-.94L8.5 2.5l-.94 2.06-2.06.94zm10 10l.94 2.06.94-2.06 2.06-.94-2.06-.94-.94-2.06-.94 2.06-2.06.94z\"/><path d=\"M17.41 7.96l-1.37-1.37c-.4-.4-.92-.59-1.43-.59-.52 0-1.04.2-1.43.59L10.3 9.45l-7.72 7.72c-.78.78-.78 2.05 0 2.83L4 21.41c.39.39.9.59 1.41.59.51 0 1.02-.2 1.41-.59l7.78-7.78 2.81-2.81c.8-.78.8-2.07 0-2.86zM5.41 20L4 18.59l7.72-7.72 1.47 1.35L5.41 20z\"/>\n",
              "  </svg>\n",
              "      </button>\n",
              "      \n",
              "  <style>\n",
              "    .colab-df-container {\n",
              "      display:flex;\n",
              "      flex-wrap:wrap;\n",
              "      gap: 12px;\n",
              "    }\n",
              "\n",
              "    .colab-df-convert {\n",
              "      background-color: #E8F0FE;\n",
              "      border: none;\n",
              "      border-radius: 50%;\n",
              "      cursor: pointer;\n",
              "      display: none;\n",
              "      fill: #1967D2;\n",
              "      height: 32px;\n",
              "      padding: 0 0 0 0;\n",
              "      width: 32px;\n",
              "    }\n",
              "\n",
              "    .colab-df-convert:hover {\n",
              "      background-color: #E2EBFA;\n",
              "      box-shadow: 0px 1px 2px rgba(60, 64, 67, 0.3), 0px 1px 3px 1px rgba(60, 64, 67, 0.15);\n",
              "      fill: #174EA6;\n",
              "    }\n",
              "\n",
              "    [theme=dark] .colab-df-convert {\n",
              "      background-color: #3B4455;\n",
              "      fill: #D2E3FC;\n",
              "    }\n",
              "\n",
              "    [theme=dark] .colab-df-convert:hover {\n",
              "      background-color: #434B5C;\n",
              "      box-shadow: 0px 1px 3px 1px rgba(0, 0, 0, 0.15);\n",
              "      filter: drop-shadow(0px 1px 2px rgba(0, 0, 0, 0.3));\n",
              "      fill: #FFFFFF;\n",
              "    }\n",
              "  </style>\n",
              "\n",
              "      <script>\n",
              "        const buttonEl =\n",
              "          document.querySelector('#df-eea56cf4-3239-4c67-b334-af7aea94bc2a button.colab-df-convert');\n",
              "        buttonEl.style.display =\n",
              "          google.colab.kernel.accessAllowed ? 'block' : 'none';\n",
              "\n",
              "        async function convertToInteractive(key) {\n",
              "          const element = document.querySelector('#df-eea56cf4-3239-4c67-b334-af7aea94bc2a');\n",
              "          const dataTable =\n",
              "            await google.colab.kernel.invokeFunction('convertToInteractive',\n",
              "                                                     [key], {});\n",
              "          if (!dataTable) return;\n",
              "\n",
              "          const docLinkHtml = 'Like what you see? Visit the ' +\n",
              "            '<a target=\"_blank\" href=https://colab.research.google.com/notebooks/data_table.ipynb>data table notebook</a>'\n",
              "            + ' to learn more about interactive tables.';\n",
              "          element.innerHTML = '';\n",
              "          dataTable['output_type'] = 'display_data';\n",
              "          await google.colab.output.renderOutput(dataTable, element);\n",
              "          const docLink = document.createElement('div');\n",
              "          docLink.innerHTML = docLinkHtml;\n",
              "          element.appendChild(docLink);\n",
              "        }\n",
              "      </script>\n",
              "    </div>\n",
              "  </div>\n",
              "  "
            ],
            "text/plain": [
              "          eng_rank  kor_rank\n",
              "eng_rank       1.0       1.0\n",
              "kor_rank       1.0       1.0"
            ]
          },
          "metadata": {},
          "execution_count": 188
        }
      ]
    },
    {
      "cell_type": "code",
      "source": [
        "# 상관 관계 조회\n",
        "df01.corr()"
      ],
      "metadata": {
        "colab": {
          "base_uri": "https://localhost:8080/",
          "height": 112
        },
        "id": "P-YpLOXFL8VU",
        "outputId": "971535fb-bf03-4b84-bcf0-cd348bdd6534"
      },
      "execution_count": null,
      "outputs": [
        {
          "output_type": "execute_result",
          "data": {
            "text/html": [
              "\n",
              "  <div id=\"df-112bdaf9-12a3-4dd2-86e6-9fa54c5ad48c\">\n",
              "    <div class=\"colab-df-container\">\n",
              "      <div>\n",
              "<style scoped>\n",
              "    .dataframe tbody tr th:only-of-type {\n",
              "        vertical-align: middle;\n",
              "    }\n",
              "\n",
              "    .dataframe tbody tr th {\n",
              "        vertical-align: top;\n",
              "    }\n",
              "\n",
              "    .dataframe thead th {\n",
              "        text-align: right;\n",
              "    }\n",
              "</style>\n",
              "<table border=\"1\" class=\"dataframe\">\n",
              "  <thead>\n",
              "    <tr style=\"text-align: right;\">\n",
              "      <th></th>\n",
              "      <th>eng_rank</th>\n",
              "      <th>kor_rank</th>\n",
              "    </tr>\n",
              "  </thead>\n",
              "  <tbody>\n",
              "    <tr>\n",
              "      <th>eng_rank</th>\n",
              "      <td>1.0</td>\n",
              "      <td>1.0</td>\n",
              "    </tr>\n",
              "    <tr>\n",
              "      <th>kor_rank</th>\n",
              "      <td>1.0</td>\n",
              "      <td>1.0</td>\n",
              "    </tr>\n",
              "  </tbody>\n",
              "</table>\n",
              "</div>\n",
              "      <button class=\"colab-df-convert\" onclick=\"convertToInteractive('df-112bdaf9-12a3-4dd2-86e6-9fa54c5ad48c')\"\n",
              "              title=\"Convert this dataframe to an interactive table.\"\n",
              "              style=\"display:none;\">\n",
              "        \n",
              "  <svg xmlns=\"http://www.w3.org/2000/svg\" height=\"24px\"viewBox=\"0 0 24 24\"\n",
              "       width=\"24px\">\n",
              "    <path d=\"M0 0h24v24H0V0z\" fill=\"none\"/>\n",
              "    <path d=\"M18.56 5.44l.94 2.06.94-2.06 2.06-.94-2.06-.94-.94-2.06-.94 2.06-2.06.94zm-11 1L8.5 8.5l.94-2.06 2.06-.94-2.06-.94L8.5 2.5l-.94 2.06-2.06.94zm10 10l.94 2.06.94-2.06 2.06-.94-2.06-.94-.94-2.06-.94 2.06-2.06.94z\"/><path d=\"M17.41 7.96l-1.37-1.37c-.4-.4-.92-.59-1.43-.59-.52 0-1.04.2-1.43.59L10.3 9.45l-7.72 7.72c-.78.78-.78 2.05 0 2.83L4 21.41c.39.39.9.59 1.41.59.51 0 1.02-.2 1.41-.59l7.78-7.78 2.81-2.81c.8-.78.8-2.07 0-2.86zM5.41 20L4 18.59l7.72-7.72 1.47 1.35L5.41 20z\"/>\n",
              "  </svg>\n",
              "      </button>\n",
              "      \n",
              "  <style>\n",
              "    .colab-df-container {\n",
              "      display:flex;\n",
              "      flex-wrap:wrap;\n",
              "      gap: 12px;\n",
              "    }\n",
              "\n",
              "    .colab-df-convert {\n",
              "      background-color: #E8F0FE;\n",
              "      border: none;\n",
              "      border-radius: 50%;\n",
              "      cursor: pointer;\n",
              "      display: none;\n",
              "      fill: #1967D2;\n",
              "      height: 32px;\n",
              "      padding: 0 0 0 0;\n",
              "      width: 32px;\n",
              "    }\n",
              "\n",
              "    .colab-df-convert:hover {\n",
              "      background-color: #E2EBFA;\n",
              "      box-shadow: 0px 1px 2px rgba(60, 64, 67, 0.3), 0px 1px 3px 1px rgba(60, 64, 67, 0.15);\n",
              "      fill: #174EA6;\n",
              "    }\n",
              "\n",
              "    [theme=dark] .colab-df-convert {\n",
              "      background-color: #3B4455;\n",
              "      fill: #D2E3FC;\n",
              "    }\n",
              "\n",
              "    [theme=dark] .colab-df-convert:hover {\n",
              "      background-color: #434B5C;\n",
              "      box-shadow: 0px 1px 3px 1px rgba(0, 0, 0, 0.15);\n",
              "      filter: drop-shadow(0px 1px 2px rgba(0, 0, 0, 0.3));\n",
              "      fill: #FFFFFF;\n",
              "    }\n",
              "  </style>\n",
              "\n",
              "      <script>\n",
              "        const buttonEl =\n",
              "          document.querySelector('#df-112bdaf9-12a3-4dd2-86e6-9fa54c5ad48c button.colab-df-convert');\n",
              "        buttonEl.style.display =\n",
              "          google.colab.kernel.accessAllowed ? 'block' : 'none';\n",
              "\n",
              "        async function convertToInteractive(key) {\n",
              "          const element = document.querySelector('#df-112bdaf9-12a3-4dd2-86e6-9fa54c5ad48c');\n",
              "          const dataTable =\n",
              "            await google.colab.kernel.invokeFunction('convertToInteractive',\n",
              "                                                     [key], {});\n",
              "          if (!dataTable) return;\n",
              "\n",
              "          const docLinkHtml = 'Like what you see? Visit the ' +\n",
              "            '<a target=\"_blank\" href=https://colab.research.google.com/notebooks/data_table.ipynb>data table notebook</a>'\n",
              "            + ' to learn more about interactive tables.';\n",
              "          element.innerHTML = '';\n",
              "          dataTable['output_type'] = 'display_data';\n",
              "          await google.colab.output.renderOutput(dataTable, element);\n",
              "          const docLink = document.createElement('div');\n",
              "          docLink.innerHTML = docLinkHtml;\n",
              "          element.appendChild(docLink);\n",
              "        }\n",
              "      </script>\n",
              "    </div>\n",
              "  </div>\n",
              "  "
            ],
            "text/plain": [
              "          eng_rank  kor_rank\n",
              "eng_rank       1.0       1.0\n",
              "kor_rank       1.0       1.0"
            ]
          },
          "metadata": {},
          "execution_count": 189
        }
      ]
    },
    {
      "cell_type": "markdown",
      "source": [
        "#### 예: 영어점수와 국어점수가 반대로 되어있다면 상관계수는? -1.\n",
        "- 영어 평균 3, 국어평균 3"
      ],
      "metadata": {
        "id": "T_fgRRnWSC-J"
      }
    },
    {
      "cell_type": "code",
      "source": [
        "df01 = pd.DataFrame({\n",
        "    'eng_rank': [1,2,3,4,5],\n",
        "    'kor_rank': [5,4,3,2,1]\n",
        "})"
      ],
      "metadata": {
        "id": "FLTZ5OfkMbSj"
      },
      "execution_count": null,
      "outputs": []
    },
    {
      "cell_type": "code",
      "source": [
        "df01.corr()"
      ],
      "metadata": {
        "colab": {
          "base_uri": "https://localhost:8080/",
          "height": 112
        },
        "id": "gV8u8C-nSNxU",
        "outputId": "029993e5-2223-41a2-d37d-8c53b2f045ec"
      },
      "execution_count": null,
      "outputs": [
        {
          "output_type": "execute_result",
          "data": {
            "text/html": [
              "\n",
              "  <div id=\"df-1f9d9481-ebe8-429b-8f2c-72ccb43a9b28\">\n",
              "    <div class=\"colab-df-container\">\n",
              "      <div>\n",
              "<style scoped>\n",
              "    .dataframe tbody tr th:only-of-type {\n",
              "        vertical-align: middle;\n",
              "    }\n",
              "\n",
              "    .dataframe tbody tr th {\n",
              "        vertical-align: top;\n",
              "    }\n",
              "\n",
              "    .dataframe thead th {\n",
              "        text-align: right;\n",
              "    }\n",
              "</style>\n",
              "<table border=\"1\" class=\"dataframe\">\n",
              "  <thead>\n",
              "    <tr style=\"text-align: right;\">\n",
              "      <th></th>\n",
              "      <th>eng_rank</th>\n",
              "      <th>kor_rank</th>\n",
              "    </tr>\n",
              "  </thead>\n",
              "  <tbody>\n",
              "    <tr>\n",
              "      <th>eng_rank</th>\n",
              "      <td>1.0</td>\n",
              "      <td>-1.0</td>\n",
              "    </tr>\n",
              "    <tr>\n",
              "      <th>kor_rank</th>\n",
              "      <td>-1.0</td>\n",
              "      <td>1.0</td>\n",
              "    </tr>\n",
              "  </tbody>\n",
              "</table>\n",
              "</div>\n",
              "      <button class=\"colab-df-convert\" onclick=\"convertToInteractive('df-1f9d9481-ebe8-429b-8f2c-72ccb43a9b28')\"\n",
              "              title=\"Convert this dataframe to an interactive table.\"\n",
              "              style=\"display:none;\">\n",
              "        \n",
              "  <svg xmlns=\"http://www.w3.org/2000/svg\" height=\"24px\"viewBox=\"0 0 24 24\"\n",
              "       width=\"24px\">\n",
              "    <path d=\"M0 0h24v24H0V0z\" fill=\"none\"/>\n",
              "    <path d=\"M18.56 5.44l.94 2.06.94-2.06 2.06-.94-2.06-.94-.94-2.06-.94 2.06-2.06.94zm-11 1L8.5 8.5l.94-2.06 2.06-.94-2.06-.94L8.5 2.5l-.94 2.06-2.06.94zm10 10l.94 2.06.94-2.06 2.06-.94-2.06-.94-.94-2.06-.94 2.06-2.06.94z\"/><path d=\"M17.41 7.96l-1.37-1.37c-.4-.4-.92-.59-1.43-.59-.52 0-1.04.2-1.43.59L10.3 9.45l-7.72 7.72c-.78.78-.78 2.05 0 2.83L4 21.41c.39.39.9.59 1.41.59.51 0 1.02-.2 1.41-.59l7.78-7.78 2.81-2.81c.8-.78.8-2.07 0-2.86zM5.41 20L4 18.59l7.72-7.72 1.47 1.35L5.41 20z\"/>\n",
              "  </svg>\n",
              "      </button>\n",
              "      \n",
              "  <style>\n",
              "    .colab-df-container {\n",
              "      display:flex;\n",
              "      flex-wrap:wrap;\n",
              "      gap: 12px;\n",
              "    }\n",
              "\n",
              "    .colab-df-convert {\n",
              "      background-color: #E8F0FE;\n",
              "      border: none;\n",
              "      border-radius: 50%;\n",
              "      cursor: pointer;\n",
              "      display: none;\n",
              "      fill: #1967D2;\n",
              "      height: 32px;\n",
              "      padding: 0 0 0 0;\n",
              "      width: 32px;\n",
              "    }\n",
              "\n",
              "    .colab-df-convert:hover {\n",
              "      background-color: #E2EBFA;\n",
              "      box-shadow: 0px 1px 2px rgba(60, 64, 67, 0.3), 0px 1px 3px 1px rgba(60, 64, 67, 0.15);\n",
              "      fill: #174EA6;\n",
              "    }\n",
              "\n",
              "    [theme=dark] .colab-df-convert {\n",
              "      background-color: #3B4455;\n",
              "      fill: #D2E3FC;\n",
              "    }\n",
              "\n",
              "    [theme=dark] .colab-df-convert:hover {\n",
              "      background-color: #434B5C;\n",
              "      box-shadow: 0px 1px 3px 1px rgba(0, 0, 0, 0.15);\n",
              "      filter: drop-shadow(0px 1px 2px rgba(0, 0, 0, 0.3));\n",
              "      fill: #FFFFFF;\n",
              "    }\n",
              "  </style>\n",
              "\n",
              "      <script>\n",
              "        const buttonEl =\n",
              "          document.querySelector('#df-1f9d9481-ebe8-429b-8f2c-72ccb43a9b28 button.colab-df-convert');\n",
              "        buttonEl.style.display =\n",
              "          google.colab.kernel.accessAllowed ? 'block' : 'none';\n",
              "\n",
              "        async function convertToInteractive(key) {\n",
              "          const element = document.querySelector('#df-1f9d9481-ebe8-429b-8f2c-72ccb43a9b28');\n",
              "          const dataTable =\n",
              "            await google.colab.kernel.invokeFunction('convertToInteractive',\n",
              "                                                     [key], {});\n",
              "          if (!dataTable) return;\n",
              "\n",
              "          const docLinkHtml = 'Like what you see? Visit the ' +\n",
              "            '<a target=\"_blank\" href=https://colab.research.google.com/notebooks/data_table.ipynb>data table notebook</a>'\n",
              "            + ' to learn more about interactive tables.';\n",
              "          element.innerHTML = '';\n",
              "          dataTable['output_type'] = 'display_data';\n",
              "          await google.colab.output.renderOutput(dataTable, element);\n",
              "          const docLink = document.createElement('div');\n",
              "          docLink.innerHTML = docLinkHtml;\n",
              "          element.appendChild(docLink);\n",
              "        }\n",
              "      </script>\n",
              "    </div>\n",
              "  </div>\n",
              "  "
            ],
            "text/plain": [
              "          eng_rank  kor_rank\n",
              "eng_rank       1.0      -1.0\n",
              "kor_rank      -1.0       1.0"
            ]
          },
          "metadata": {},
          "execution_count": 191
        }
      ]
    },
    {
      "cell_type": "markdown",
      "source": [
        "#### 예: 영어점수와 국어점수가 들쭉날쭉하면? \n",
        "- 상관계수의 절대값이 줄어듬."
      ],
      "metadata": {
        "id": "pSyeV9FgWRXt"
      }
    },
    {
      "cell_type": "code",
      "source": [
        "df01 = pd.DataFrame({\n",
        "    'eng_rank': [1,2,3,4,5],\n",
        "    'kor_rank': [5,1,3,2,4]\n",
        "})"
      ],
      "metadata": {
        "id": "xvGAQ5skSPYT"
      },
      "execution_count": null,
      "outputs": []
    },
    {
      "cell_type": "code",
      "source": [
        "(df01['eng_rank'] - 3) * (df01['kor_rank'] - 3) # 양수 음수 섞임"
      ],
      "metadata": {
        "colab": {
          "base_uri": "https://localhost:8080/"
        },
        "id": "s7YslTvyXA2v",
        "outputId": "bc13f68e-a751-441d-f6db-b3abb93ab7ce"
      },
      "execution_count": null,
      "outputs": [
        {
          "output_type": "execute_result",
          "data": {
            "text/plain": [
              "0   -4\n",
              "1    2\n",
              "2    0\n",
              "3   -1\n",
              "4    2\n",
              "dtype: int64"
            ]
          },
          "metadata": {},
          "execution_count": 194
        }
      ]
    },
    {
      "cell_type": "code",
      "source": [
        "df01['eng_rank'].std()"
      ],
      "metadata": {
        "colab": {
          "base_uri": "https://localhost:8080/"
        },
        "id": "qBRoFsWIXPFT",
        "outputId": "91d7f606-a264-4550-d9eb-d3e2d46007bd"
      },
      "execution_count": null,
      "outputs": [
        {
          "output_type": "execute_result",
          "data": {
            "text/plain": [
              "1.5811388300841898"
            ]
          },
          "metadata": {},
          "execution_count": 195
        }
      ]
    },
    {
      "cell_type": "code",
      "source": [
        "df01['kor_rank'].std()"
      ],
      "metadata": {
        "colab": {
          "base_uri": "https://localhost:8080/"
        },
        "id": "y32wUeTtXSaw",
        "outputId": "135463de-29d6-4bec-9c46-0079a7e4cf25"
      },
      "execution_count": null,
      "outputs": [
        {
          "output_type": "execute_result",
          "data": {
            "text/plain": [
              "1.5811388300841898"
            ]
          },
          "metadata": {},
          "execution_count": 196
        }
      ]
    },
    {
      "cell_type": "code",
      "source": [
        "# 공분산 구하기\n",
        "sum((df01['eng_rank'] - 3) * (df01['kor_rank'] - 3)) / 4"
      ],
      "metadata": {
        "colab": {
          "base_uri": "https://localhost:8080/"
        },
        "id": "ieL45XgTXifh",
        "outputId": "d0844c91-6e83-42aa-ae12-2821843babe8"
      },
      "execution_count": null,
      "outputs": [
        {
          "output_type": "execute_result",
          "data": {
            "text/plain": [
              "-0.25"
            ]
          },
          "metadata": {},
          "execution_count": 199
        }
      ]
    },
    {
      "cell_type": "code",
      "source": [
        "df01.cov()"
      ],
      "metadata": {
        "colab": {
          "base_uri": "https://localhost:8080/",
          "height": 112
        },
        "id": "4Llz6etqXYgi",
        "outputId": "ddca324c-ba81-40be-d8e0-8913d357c8a0"
      },
      "execution_count": null,
      "outputs": [
        {
          "output_type": "execute_result",
          "data": {
            "text/html": [
              "\n",
              "  <div id=\"df-af075568-4a6c-47c9-a06b-234c49d1d2ba\">\n",
              "    <div class=\"colab-df-container\">\n",
              "      <div>\n",
              "<style scoped>\n",
              "    .dataframe tbody tr th:only-of-type {\n",
              "        vertical-align: middle;\n",
              "    }\n",
              "\n",
              "    .dataframe tbody tr th {\n",
              "        vertical-align: top;\n",
              "    }\n",
              "\n",
              "    .dataframe thead th {\n",
              "        text-align: right;\n",
              "    }\n",
              "</style>\n",
              "<table border=\"1\" class=\"dataframe\">\n",
              "  <thead>\n",
              "    <tr style=\"text-align: right;\">\n",
              "      <th></th>\n",
              "      <th>eng_rank</th>\n",
              "      <th>kor_rank</th>\n",
              "    </tr>\n",
              "  </thead>\n",
              "  <tbody>\n",
              "    <tr>\n",
              "      <th>eng_rank</th>\n",
              "      <td>2.50</td>\n",
              "      <td>-0.25</td>\n",
              "    </tr>\n",
              "    <tr>\n",
              "      <th>kor_rank</th>\n",
              "      <td>-0.25</td>\n",
              "      <td>2.50</td>\n",
              "    </tr>\n",
              "  </tbody>\n",
              "</table>\n",
              "</div>\n",
              "      <button class=\"colab-df-convert\" onclick=\"convertToInteractive('df-af075568-4a6c-47c9-a06b-234c49d1d2ba')\"\n",
              "              title=\"Convert this dataframe to an interactive table.\"\n",
              "              style=\"display:none;\">\n",
              "        \n",
              "  <svg xmlns=\"http://www.w3.org/2000/svg\" height=\"24px\"viewBox=\"0 0 24 24\"\n",
              "       width=\"24px\">\n",
              "    <path d=\"M0 0h24v24H0V0z\" fill=\"none\"/>\n",
              "    <path d=\"M18.56 5.44l.94 2.06.94-2.06 2.06-.94-2.06-.94-.94-2.06-.94 2.06-2.06.94zm-11 1L8.5 8.5l.94-2.06 2.06-.94-2.06-.94L8.5 2.5l-.94 2.06-2.06.94zm10 10l.94 2.06.94-2.06 2.06-.94-2.06-.94-.94-2.06-.94 2.06-2.06.94z\"/><path d=\"M17.41 7.96l-1.37-1.37c-.4-.4-.92-.59-1.43-.59-.52 0-1.04.2-1.43.59L10.3 9.45l-7.72 7.72c-.78.78-.78 2.05 0 2.83L4 21.41c.39.39.9.59 1.41.59.51 0 1.02-.2 1.41-.59l7.78-7.78 2.81-2.81c.8-.78.8-2.07 0-2.86zM5.41 20L4 18.59l7.72-7.72 1.47 1.35L5.41 20z\"/>\n",
              "  </svg>\n",
              "      </button>\n",
              "      \n",
              "  <style>\n",
              "    .colab-df-container {\n",
              "      display:flex;\n",
              "      flex-wrap:wrap;\n",
              "      gap: 12px;\n",
              "    }\n",
              "\n",
              "    .colab-df-convert {\n",
              "      background-color: #E8F0FE;\n",
              "      border: none;\n",
              "      border-radius: 50%;\n",
              "      cursor: pointer;\n",
              "      display: none;\n",
              "      fill: #1967D2;\n",
              "      height: 32px;\n",
              "      padding: 0 0 0 0;\n",
              "      width: 32px;\n",
              "    }\n",
              "\n",
              "    .colab-df-convert:hover {\n",
              "      background-color: #E2EBFA;\n",
              "      box-shadow: 0px 1px 2px rgba(60, 64, 67, 0.3), 0px 1px 3px 1px rgba(60, 64, 67, 0.15);\n",
              "      fill: #174EA6;\n",
              "    }\n",
              "\n",
              "    [theme=dark] .colab-df-convert {\n",
              "      background-color: #3B4455;\n",
              "      fill: #D2E3FC;\n",
              "    }\n",
              "\n",
              "    [theme=dark] .colab-df-convert:hover {\n",
              "      background-color: #434B5C;\n",
              "      box-shadow: 0px 1px 3px 1px rgba(0, 0, 0, 0.15);\n",
              "      filter: drop-shadow(0px 1px 2px rgba(0, 0, 0, 0.3));\n",
              "      fill: #FFFFFF;\n",
              "    }\n",
              "  </style>\n",
              "\n",
              "      <script>\n",
              "        const buttonEl =\n",
              "          document.querySelector('#df-af075568-4a6c-47c9-a06b-234c49d1d2ba button.colab-df-convert');\n",
              "        buttonEl.style.display =\n",
              "          google.colab.kernel.accessAllowed ? 'block' : 'none';\n",
              "\n",
              "        async function convertToInteractive(key) {\n",
              "          const element = document.querySelector('#df-af075568-4a6c-47c9-a06b-234c49d1d2ba');\n",
              "          const dataTable =\n",
              "            await google.colab.kernel.invokeFunction('convertToInteractive',\n",
              "                                                     [key], {});\n",
              "          if (!dataTable) return;\n",
              "\n",
              "          const docLinkHtml = 'Like what you see? Visit the ' +\n",
              "            '<a target=\"_blank\" href=https://colab.research.google.com/notebooks/data_table.ipynb>data table notebook</a>'\n",
              "            + ' to learn more about interactive tables.';\n",
              "          element.innerHTML = '';\n",
              "          dataTable['output_type'] = 'display_data';\n",
              "          await google.colab.output.renderOutput(dataTable, element);\n",
              "          const docLink = document.createElement('div');\n",
              "          docLink.innerHTML = docLinkHtml;\n",
              "          element.appendChild(docLink);\n",
              "        }\n",
              "      </script>\n",
              "    </div>\n",
              "  </div>\n",
              "  "
            ],
            "text/plain": [
              "          eng_rank  kor_rank\n",
              "eng_rank      2.50     -0.25\n",
              "kor_rank     -0.25      2.50"
            ]
          },
          "metadata": {},
          "execution_count": 197
        }
      ]
    },
    {
      "cell_type": "code",
      "source": [
        "# 상관계수\n",
        "df01.cov() / ( df01['eng_rank'].std() * df01['kor_rank'].std() )"
      ],
      "metadata": {
        "colab": {
          "base_uri": "https://localhost:8080/",
          "height": 112
        },
        "id": "GP3Ic0YyYVTR",
        "outputId": "59aa9928-851e-456b-c980-6d7f129dcc41"
      },
      "execution_count": null,
      "outputs": [
        {
          "output_type": "execute_result",
          "data": {
            "text/html": [
              "\n",
              "  <div id=\"df-24ba6349-f34c-4db6-93cb-732109a231dd\">\n",
              "    <div class=\"colab-df-container\">\n",
              "      <div>\n",
              "<style scoped>\n",
              "    .dataframe tbody tr th:only-of-type {\n",
              "        vertical-align: middle;\n",
              "    }\n",
              "\n",
              "    .dataframe tbody tr th {\n",
              "        vertical-align: top;\n",
              "    }\n",
              "\n",
              "    .dataframe thead th {\n",
              "        text-align: right;\n",
              "    }\n",
              "</style>\n",
              "<table border=\"1\" class=\"dataframe\">\n",
              "  <thead>\n",
              "    <tr style=\"text-align: right;\">\n",
              "      <th></th>\n",
              "      <th>eng_rank</th>\n",
              "      <th>kor_rank</th>\n",
              "    </tr>\n",
              "  </thead>\n",
              "  <tbody>\n",
              "    <tr>\n",
              "      <th>eng_rank</th>\n",
              "      <td>1.0</td>\n",
              "      <td>-0.1</td>\n",
              "    </tr>\n",
              "    <tr>\n",
              "      <th>kor_rank</th>\n",
              "      <td>-0.1</td>\n",
              "      <td>1.0</td>\n",
              "    </tr>\n",
              "  </tbody>\n",
              "</table>\n",
              "</div>\n",
              "      <button class=\"colab-df-convert\" onclick=\"convertToInteractive('df-24ba6349-f34c-4db6-93cb-732109a231dd')\"\n",
              "              title=\"Convert this dataframe to an interactive table.\"\n",
              "              style=\"display:none;\">\n",
              "        \n",
              "  <svg xmlns=\"http://www.w3.org/2000/svg\" height=\"24px\"viewBox=\"0 0 24 24\"\n",
              "       width=\"24px\">\n",
              "    <path d=\"M0 0h24v24H0V0z\" fill=\"none\"/>\n",
              "    <path d=\"M18.56 5.44l.94 2.06.94-2.06 2.06-.94-2.06-.94-.94-2.06-.94 2.06-2.06.94zm-11 1L8.5 8.5l.94-2.06 2.06-.94-2.06-.94L8.5 2.5l-.94 2.06-2.06.94zm10 10l.94 2.06.94-2.06 2.06-.94-2.06-.94-.94-2.06-.94 2.06-2.06.94z\"/><path d=\"M17.41 7.96l-1.37-1.37c-.4-.4-.92-.59-1.43-.59-.52 0-1.04.2-1.43.59L10.3 9.45l-7.72 7.72c-.78.78-.78 2.05 0 2.83L4 21.41c.39.39.9.59 1.41.59.51 0 1.02-.2 1.41-.59l7.78-7.78 2.81-2.81c.8-.78.8-2.07 0-2.86zM5.41 20L4 18.59l7.72-7.72 1.47 1.35L5.41 20z\"/>\n",
              "  </svg>\n",
              "      </button>\n",
              "      \n",
              "  <style>\n",
              "    .colab-df-container {\n",
              "      display:flex;\n",
              "      flex-wrap:wrap;\n",
              "      gap: 12px;\n",
              "    }\n",
              "\n",
              "    .colab-df-convert {\n",
              "      background-color: #E8F0FE;\n",
              "      border: none;\n",
              "      border-radius: 50%;\n",
              "      cursor: pointer;\n",
              "      display: none;\n",
              "      fill: #1967D2;\n",
              "      height: 32px;\n",
              "      padding: 0 0 0 0;\n",
              "      width: 32px;\n",
              "    }\n",
              "\n",
              "    .colab-df-convert:hover {\n",
              "      background-color: #E2EBFA;\n",
              "      box-shadow: 0px 1px 2px rgba(60, 64, 67, 0.3), 0px 1px 3px 1px rgba(60, 64, 67, 0.15);\n",
              "      fill: #174EA6;\n",
              "    }\n",
              "\n",
              "    [theme=dark] .colab-df-convert {\n",
              "      background-color: #3B4455;\n",
              "      fill: #D2E3FC;\n",
              "    }\n",
              "\n",
              "    [theme=dark] .colab-df-convert:hover {\n",
              "      background-color: #434B5C;\n",
              "      box-shadow: 0px 1px 3px 1px rgba(0, 0, 0, 0.15);\n",
              "      filter: drop-shadow(0px 1px 2px rgba(0, 0, 0, 0.3));\n",
              "      fill: #FFFFFF;\n",
              "    }\n",
              "  </style>\n",
              "\n",
              "      <script>\n",
              "        const buttonEl =\n",
              "          document.querySelector('#df-24ba6349-f34c-4db6-93cb-732109a231dd button.colab-df-convert');\n",
              "        buttonEl.style.display =\n",
              "          google.colab.kernel.accessAllowed ? 'block' : 'none';\n",
              "\n",
              "        async function convertToInteractive(key) {\n",
              "          const element = document.querySelector('#df-24ba6349-f34c-4db6-93cb-732109a231dd');\n",
              "          const dataTable =\n",
              "            await google.colab.kernel.invokeFunction('convertToInteractive',\n",
              "                                                     [key], {});\n",
              "          if (!dataTable) return;\n",
              "\n",
              "          const docLinkHtml = 'Like what you see? Visit the ' +\n",
              "            '<a target=\"_blank\" href=https://colab.research.google.com/notebooks/data_table.ipynb>data table notebook</a>'\n",
              "            + ' to learn more about interactive tables.';\n",
              "          element.innerHTML = '';\n",
              "          dataTable['output_type'] = 'display_data';\n",
              "          await google.colab.output.renderOutput(dataTable, element);\n",
              "          const docLink = document.createElement('div');\n",
              "          docLink.innerHTML = docLinkHtml;\n",
              "          element.appendChild(docLink);\n",
              "        }\n",
              "      </script>\n",
              "    </div>\n",
              "  </div>\n",
              "  "
            ],
            "text/plain": [
              "          eng_rank  kor_rank\n",
              "eng_rank       1.0      -0.1\n",
              "kor_rank      -0.1       1.0"
            ]
          },
          "metadata": {},
          "execution_count": 200
        }
      ]
    },
    {
      "cell_type": "code",
      "source": [
        "df01.corr()"
      ],
      "metadata": {
        "colab": {
          "base_uri": "https://localhost:8080/",
          "height": 112
        },
        "id": "Bv7ge0WyWp1x",
        "outputId": "564fb0d0-9673-48e7-a0c1-b5889fc2ff24"
      },
      "execution_count": null,
      "outputs": [
        {
          "output_type": "execute_result",
          "data": {
            "text/html": [
              "\n",
              "  <div id=\"df-f6c83662-22cc-403b-83a2-4daca1603434\">\n",
              "    <div class=\"colab-df-container\">\n",
              "      <div>\n",
              "<style scoped>\n",
              "    .dataframe tbody tr th:only-of-type {\n",
              "        vertical-align: middle;\n",
              "    }\n",
              "\n",
              "    .dataframe tbody tr th {\n",
              "        vertical-align: top;\n",
              "    }\n",
              "\n",
              "    .dataframe thead th {\n",
              "        text-align: right;\n",
              "    }\n",
              "</style>\n",
              "<table border=\"1\" class=\"dataframe\">\n",
              "  <thead>\n",
              "    <tr style=\"text-align: right;\">\n",
              "      <th></th>\n",
              "      <th>eng_rank</th>\n",
              "      <th>kor_rank</th>\n",
              "    </tr>\n",
              "  </thead>\n",
              "  <tbody>\n",
              "    <tr>\n",
              "      <th>eng_rank</th>\n",
              "      <td>1.0</td>\n",
              "      <td>-0.1</td>\n",
              "    </tr>\n",
              "    <tr>\n",
              "      <th>kor_rank</th>\n",
              "      <td>-0.1</td>\n",
              "      <td>1.0</td>\n",
              "    </tr>\n",
              "  </tbody>\n",
              "</table>\n",
              "</div>\n",
              "      <button class=\"colab-df-convert\" onclick=\"convertToInteractive('df-f6c83662-22cc-403b-83a2-4daca1603434')\"\n",
              "              title=\"Convert this dataframe to an interactive table.\"\n",
              "              style=\"display:none;\">\n",
              "        \n",
              "  <svg xmlns=\"http://www.w3.org/2000/svg\" height=\"24px\"viewBox=\"0 0 24 24\"\n",
              "       width=\"24px\">\n",
              "    <path d=\"M0 0h24v24H0V0z\" fill=\"none\"/>\n",
              "    <path d=\"M18.56 5.44l.94 2.06.94-2.06 2.06-.94-2.06-.94-.94-2.06-.94 2.06-2.06.94zm-11 1L8.5 8.5l.94-2.06 2.06-.94-2.06-.94L8.5 2.5l-.94 2.06-2.06.94zm10 10l.94 2.06.94-2.06 2.06-.94-2.06-.94-.94-2.06-.94 2.06-2.06.94z\"/><path d=\"M17.41 7.96l-1.37-1.37c-.4-.4-.92-.59-1.43-.59-.52 0-1.04.2-1.43.59L10.3 9.45l-7.72 7.72c-.78.78-.78 2.05 0 2.83L4 21.41c.39.39.9.59 1.41.59.51 0 1.02-.2 1.41-.59l7.78-7.78 2.81-2.81c.8-.78.8-2.07 0-2.86zM5.41 20L4 18.59l7.72-7.72 1.47 1.35L5.41 20z\"/>\n",
              "  </svg>\n",
              "      </button>\n",
              "      \n",
              "  <style>\n",
              "    .colab-df-container {\n",
              "      display:flex;\n",
              "      flex-wrap:wrap;\n",
              "      gap: 12px;\n",
              "    }\n",
              "\n",
              "    .colab-df-convert {\n",
              "      background-color: #E8F0FE;\n",
              "      border: none;\n",
              "      border-radius: 50%;\n",
              "      cursor: pointer;\n",
              "      display: none;\n",
              "      fill: #1967D2;\n",
              "      height: 32px;\n",
              "      padding: 0 0 0 0;\n",
              "      width: 32px;\n",
              "    }\n",
              "\n",
              "    .colab-df-convert:hover {\n",
              "      background-color: #E2EBFA;\n",
              "      box-shadow: 0px 1px 2px rgba(60, 64, 67, 0.3), 0px 1px 3px 1px rgba(60, 64, 67, 0.15);\n",
              "      fill: #174EA6;\n",
              "    }\n",
              "\n",
              "    [theme=dark] .colab-df-convert {\n",
              "      background-color: #3B4455;\n",
              "      fill: #D2E3FC;\n",
              "    }\n",
              "\n",
              "    [theme=dark] .colab-df-convert:hover {\n",
              "      background-color: #434B5C;\n",
              "      box-shadow: 0px 1px 3px 1px rgba(0, 0, 0, 0.15);\n",
              "      filter: drop-shadow(0px 1px 2px rgba(0, 0, 0, 0.3));\n",
              "      fill: #FFFFFF;\n",
              "    }\n",
              "  </style>\n",
              "\n",
              "      <script>\n",
              "        const buttonEl =\n",
              "          document.querySelector('#df-f6c83662-22cc-403b-83a2-4daca1603434 button.colab-df-convert');\n",
              "        buttonEl.style.display =\n",
              "          google.colab.kernel.accessAllowed ? 'block' : 'none';\n",
              "\n",
              "        async function convertToInteractive(key) {\n",
              "          const element = document.querySelector('#df-f6c83662-22cc-403b-83a2-4daca1603434');\n",
              "          const dataTable =\n",
              "            await google.colab.kernel.invokeFunction('convertToInteractive',\n",
              "                                                     [key], {});\n",
              "          if (!dataTable) return;\n",
              "\n",
              "          const docLinkHtml = 'Like what you see? Visit the ' +\n",
              "            '<a target=\"_blank\" href=https://colab.research.google.com/notebooks/data_table.ipynb>data table notebook</a>'\n",
              "            + ' to learn more about interactive tables.';\n",
              "          element.innerHTML = '';\n",
              "          dataTable['output_type'] = 'display_data';\n",
              "          await google.colab.output.renderOutput(dataTable, element);\n",
              "          const docLink = document.createElement('div');\n",
              "          docLink.innerHTML = docLinkHtml;\n",
              "          element.appendChild(docLink);\n",
              "        }\n",
              "      </script>\n",
              "    </div>\n",
              "  </div>\n",
              "  "
            ],
            "text/plain": [
              "          eng_rank  kor_rank\n",
              "eng_rank       1.0      -0.1\n",
              "kor_rank      -0.1       1.0"
            ]
          },
          "metadata": {},
          "execution_count": 193
        }
      ]
    },
    {
      "cell_type": "markdown",
      "source": [
        "#### 상관계수가 0일때\n",
        "- 공분산이 0일때\n",
        "\n",
        "1.   x, y 중 하나의 모든 데이터가 평균과 같다\n",
        "2.   증가, 감소하는 데이터가 딱 반반이다.\n",
        "\n"
      ],
      "metadata": {
        "id": "KdE7XhfyZUMx"
      }
    },
    {
      "cell_type": "code",
      "source": [
        ""
      ],
      "metadata": {
        "id": "bcp9AI60WrQJ"
      },
      "execution_count": null,
      "outputs": []
    },
    {
      "cell_type": "markdown",
      "source": [
        "# 회귀분석 성능 측정\n",
        "\n",
        "## Mean Squared Error(MSE)\n",
        "- ((찐 - 예측) 제곱의 합) / (데이터수)"
      ],
      "metadata": {
        "id": "nKCoo1rL2ZkQ"
      }
    },
    {
      "cell_type": "code",
      "source": [
        "X_test = np.array( [100, 50, 10, 70] )"
      ],
      "metadata": {
        "id": "Dr7_u9qKb6jp"
      },
      "execution_count": null,
      "outputs": []
    },
    {
      "cell_type": "code",
      "source": [
        "pred = np.array( [100.5, 49.5, 10.1, 69.9] )"
      ],
      "metadata": {
        "id": "i3wQWCT53All"
      },
      "execution_count": null,
      "outputs": []
    },
    {
      "cell_type": "code",
      "source": [
        "X_test - pred"
      ],
      "metadata": {
        "colab": {
          "base_uri": "https://localhost:8080/"
        },
        "id": "mRYJeo5F3Lny",
        "outputId": "8bda026f-6fb2-4843-a687-95dacf5e3af4"
      },
      "execution_count": null,
      "outputs": [
        {
          "output_type": "execute_result",
          "data": {
            "text/plain": [
              "array([-0.5,  0.5, -0.1,  0.1])"
            ]
          },
          "metadata": {},
          "execution_count": 46
        }
      ]
    },
    {
      "cell_type": "code",
      "source": [
        "(X_test-pred) ** 2"
      ],
      "metadata": {
        "colab": {
          "base_uri": "https://localhost:8080/"
        },
        "id": "vRI0CDJG30MT",
        "outputId": "1f498386-8c45-447e-a682-ac160e13643e"
      },
      "execution_count": null,
      "outputs": [
        {
          "output_type": "execute_result",
          "data": {
            "text/plain": [
              "array([0.25, 0.25, 0.01, 0.01])"
            ]
          },
          "metadata": {},
          "execution_count": 48
        }
      ]
    },
    {
      "cell_type": "code",
      "source": [
        "sum((X_test-pred) ** 2)"
      ],
      "metadata": {
        "colab": {
          "base_uri": "https://localhost:8080/"
        },
        "id": "zidLa71b45jP",
        "outputId": "097d099d-30f8-470b-f8fc-04b079776e1a"
      },
      "execution_count": null,
      "outputs": [
        {
          "output_type": "execute_result",
          "data": {
            "text/plain": [
              "0.5199999999999988"
            ]
          },
          "metadata": {},
          "execution_count": 49
        }
      ]
    },
    {
      "cell_type": "code",
      "source": [
        "# Mean Squared Error\n",
        "sum((X_test-pred) ** 2) / 4"
      ],
      "metadata": {
        "colab": {
          "base_uri": "https://localhost:8080/"
        },
        "id": "2kg2GeV95Crt",
        "outputId": "c98575ff-1494-467b-f12a-e9c22568b6b7"
      },
      "execution_count": null,
      "outputs": [
        {
          "output_type": "execute_result",
          "data": {
            "text/plain": [
              "0.1299999999999997"
            ]
          },
          "metadata": {},
          "execution_count": 50
        }
      ]
    },
    {
      "cell_type": "code",
      "source": [
        ""
      ],
      "metadata": {
        "id": "GZyOTgIr5Kip"
      },
      "execution_count": null,
      "outputs": []
    },
    {
      "cell_type": "code",
      "source": [
        "# 값 바꿔보기\n",
        "\n",
        "X_test = np.array( [100, 50, 10, 70] )"
      ],
      "metadata": {
        "id": "_CLsSn2I5e5F"
      },
      "execution_count": null,
      "outputs": []
    },
    {
      "cell_type": "code",
      "source": [
        "pred = np.array( [120, 30, 0, 80] )"
      ],
      "metadata": {
        "id": "s-rnvOoi5e5F"
      },
      "execution_count": null,
      "outputs": []
    },
    {
      "cell_type": "code",
      "source": [
        "X_test - pred"
      ],
      "metadata": {
        "colab": {
          "base_uri": "https://localhost:8080/"
        },
        "id": "Krv-EM1S53Xq",
        "outputId": "de339170-49b3-46c1-8abe-2893c37dde15"
      },
      "execution_count": null,
      "outputs": [
        {
          "output_type": "execute_result",
          "data": {
            "text/plain": [
              "array([-20,  20,  10, -10])"
            ]
          },
          "metadata": {},
          "execution_count": 54
        }
      ]
    },
    {
      "cell_type": "code",
      "source": [
        "(X_test - pred) ** 2"
      ],
      "metadata": {
        "colab": {
          "base_uri": "https://localhost:8080/"
        },
        "id": "_oNoguvh57c4",
        "outputId": "a2b186d4-aebd-4d3b-a9be-ed5036bf454a"
      },
      "execution_count": null,
      "outputs": [
        {
          "output_type": "execute_result",
          "data": {
            "text/plain": [
              "array([400, 400, 100, 100])"
            ]
          },
          "metadata": {},
          "execution_count": 55
        }
      ]
    },
    {
      "cell_type": "code",
      "source": [
        "sum((X_test-pred) ** 2) / 4"
      ],
      "metadata": {
        "colab": {
          "base_uri": "https://localhost:8080/"
        },
        "id": "kKq8W0Ba5m7O",
        "outputId": "f49e7976-4e37-4957-b710-04fb54654bb1"
      },
      "execution_count": null,
      "outputs": [
        {
          "output_type": "execute_result",
          "data": {
            "text/plain": [
              "250.0"
            ]
          },
          "metadata": {},
          "execution_count": 53
        }
      ]
    },
    {
      "cell_type": "markdown",
      "source": [
        "- 오차의 절대값이 1 미만인 경우 제곱하면 오히려 제곱값은 줄어든다. (패널티를 줄여주는 결과)\n",
        "- 반대로 오차의 절대값이 1을 초과할 경우 제곱하면 패널티 세게 된다."
      ],
      "metadata": {
        "id": "3LfRQinS6x3I"
      }
    },
    {
      "cell_type": "code",
      "source": [
        "from sklearn.metrics import mean_squared_error"
      ],
      "metadata": {
        "id": "GaGNI0b45pgK"
      },
      "execution_count": null,
      "outputs": []
    },
    {
      "cell_type": "code",
      "source": [
        "mean_squared_error(X_test, pred)"
      ],
      "metadata": {
        "colab": {
          "base_uri": "https://localhost:8080/"
        },
        "id": "s3Z3_SU-8NOd",
        "outputId": "260960ab-4b36-450a-efd4-8a5e37afb0ba"
      },
      "execution_count": null,
      "outputs": [
        {
          "output_type": "execute_result",
          "data": {
            "text/plain": [
              "250.0"
            ]
          },
          "metadata": {},
          "execution_count": 57
        }
      ]
    },
    {
      "cell_type": "markdown",
      "source": [
        "# 사분위수"
      ],
      "metadata": {
        "id": "bU35jcGTCG_G"
      }
    },
    {
      "cell_type": "code",
      "source": [
        "import pandas as pd"
      ],
      "metadata": {
        "id": "elCtPET4CvqX"
      },
      "execution_count": 2,
      "outputs": []
    },
    {
      "cell_type": "code",
      "source": [
        "df01 = pd.DataFrame({\n",
        "    'num':[ 100, 10, 200, 1000, 40, 300, 800, 50, 70, 500 ]\n",
        "})"
      ],
      "metadata": {
        "id": "BgyPapDx8ZfC"
      },
      "execution_count": 3,
      "outputs": []
    },
    {
      "cell_type": "code",
      "source": [
        "df01['num'].sort_values()"
      ],
      "metadata": {
        "colab": {
          "base_uri": "https://localhost:8080/"
        },
        "id": "-9sdenV5Cswg",
        "outputId": "d6baca85-06e4-4fac-97f8-72cb660e1a33"
      },
      "execution_count": 4,
      "outputs": [
        {
          "output_type": "execute_result",
          "data": {
            "text/plain": [
              "1      10\n",
              "4      40\n",
              "7      50\n",
              "8      70\n",
              "0     100\n",
              "2     200\n",
              "5     300\n",
              "9     500\n",
              "6     800\n",
              "3    1000\n",
              "Name: num, dtype: int64"
            ]
          },
          "metadata": {},
          "execution_count": 4
        }
      ]
    },
    {
      "cell_type": "code",
      "source": [
        "import numpy as np"
      ],
      "metadata": {
        "id": "SnxIhbvmCzsF"
      },
      "execution_count": 5,
      "outputs": []
    },
    {
      "cell_type": "code",
      "source": [
        "np.percentile(df01['num'], 25)"
      ],
      "metadata": {
        "colab": {
          "base_uri": "https://localhost:8080/"
        },
        "id": "afPBWaqLFXUa",
        "outputId": "6b8bea38-e43d-426f-f60a-100148f22aa1"
      },
      "execution_count": 6,
      "outputs": [
        {
          "output_type": "execute_result",
          "data": {
            "text/plain": [
              "55.0"
            ]
          },
          "metadata": {},
          "execution_count": 6
        }
      ]
    },
    {
      "cell_type": "code",
      "source": [
        "np.percentile(df01['num'], 75)"
      ],
      "metadata": {
        "colab": {
          "base_uri": "https://localhost:8080/"
        },
        "id": "48ca5NkvFaNJ",
        "outputId": "92c6726a-ceab-462f-e06c-6c58a0c3ea06"
      },
      "execution_count": 7,
      "outputs": [
        {
          "output_type": "execute_result",
          "data": {
            "text/plain": [
              "450.0"
            ]
          },
          "metadata": {},
          "execution_count": 7
        }
      ]
    },
    {
      "cell_type": "code",
      "source": [
        "np.percentile(df01['num'], 50)"
      ],
      "metadata": {
        "colab": {
          "base_uri": "https://localhost:8080/"
        },
        "id": "pvJeus-YHMRd",
        "outputId": "71c2148e-4180-4f05-d909-4e5c9be95721"
      },
      "execution_count": 8,
      "outputs": [
        {
          "output_type": "execute_result",
          "data": {
            "text/plain": [
              "150.0"
            ]
          },
          "metadata": {},
          "execution_count": 8
        }
      ]
    },
    {
      "cell_type": "markdown",
      "source": [
        "## 이상값"
      ],
      "metadata": {
        "id": "ZPkXdDetJfjx"
      }
    },
    {
      "cell_type": "markdown",
      "source": [
        "![image.png](data:image/png;base64,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)"
      ],
      "metadata": {
        "id": "Bvc_rvsqRpxu"
      }
    },
    {
      "cell_type": "code",
      "source": [
        "# 표본 10명의 연봉\n",
        "\n",
        "df01 = pd.DataFrame({\n",
        "    'sal': [4000, 8000, 10000, 50, 3000, 6000, 6400000, 7000, 2000, 3500]\n",
        "})"
      ],
      "metadata": {
        "id": "9ZIkolg5IeM4"
      },
      "execution_count": 9,
      "outputs": []
    },
    {
      "cell_type": "code",
      "source": [
        "np.percentile(df01['sal'], 25)"
      ],
      "metadata": {
        "colab": {
          "base_uri": "https://localhost:8080/"
        },
        "id": "cTN7_W-FS7SL",
        "outputId": "9777f098-bf0a-4fac-84ba-b16804147cd6"
      },
      "execution_count": 10,
      "outputs": [
        {
          "output_type": "execute_result",
          "data": {
            "text/plain": [
              "3125.0"
            ]
          },
          "metadata": {},
          "execution_count": 10
        }
      ]
    },
    {
      "cell_type": "code",
      "source": [
        "np.percentile(df01['sal'], 75)"
      ],
      "metadata": {
        "colab": {
          "base_uri": "https://localhost:8080/"
        },
        "id": "yZhRkkfKTEPP",
        "outputId": "b405c6c3-f7f1-4fdb-ce2d-6c448c327962"
      },
      "execution_count": 11,
      "outputs": [
        {
          "output_type": "execute_result",
          "data": {
            "text/plain": [
              "7750.0"
            ]
          },
          "metadata": {},
          "execution_count": 11
        }
      ]
    },
    {
      "cell_type": "code",
      "source": [
        "q1 = np.percentile(df01['sal'], 25)"
      ],
      "metadata": {
        "id": "001ZnqWbTgq8"
      },
      "execution_count": 12,
      "outputs": []
    },
    {
      "cell_type": "code",
      "source": [
        "q3 = np.percentile(df01['sal'], 75)"
      ],
      "metadata": {
        "id": "IrK81bI9TiXD"
      },
      "execution_count": 13,
      "outputs": []
    },
    {
      "cell_type": "markdown",
      "source": [
        "IQR = Q3 - Q1"
      ],
      "metadata": {
        "id": "ruJX-DV9Trj7"
      }
    },
    {
      "cell_type": "code",
      "source": [
        "IQR = q3 - q1"
      ],
      "metadata": {
        "id": "6RvsATeqTpG-"
      },
      "execution_count": 14,
      "outputs": []
    },
    {
      "cell_type": "code",
      "source": [
        "# 이상치 최대 한계점\n",
        "q3 + 1.5*IQR"
      ],
      "metadata": {
        "colab": {
          "base_uri": "https://localhost:8080/"
        },
        "id": "NRE5rQEqTwKm",
        "outputId": "cddc58af-fbd1-4f55-fa93-61c613160193"
      },
      "execution_count": 15,
      "outputs": [
        {
          "output_type": "execute_result",
          "data": {
            "text/plain": [
              "14687.5"
            ]
          },
          "metadata": {},
          "execution_count": 15
        }
      ]
    },
    {
      "cell_type": "code",
      "source": [
        "df01"
      ],
      "metadata": {
        "colab": {
          "base_uri": "https://localhost:8080/",
          "height": 363
        },
        "id": "0S9zDLv3WopW",
        "outputId": "679a52be-cf60-4b97-f550-fc6c65b41b87"
      },
      "execution_count": 16,
      "outputs": [
        {
          "output_type": "execute_result",
          "data": {
            "text/html": [
              "\n",
              "  <div id=\"df-5a49330e-3b8e-490b-b51f-37e6d7972478\">\n",
              "    <div class=\"colab-df-container\">\n",
              "      <div>\n",
              "<style scoped>\n",
              "    .dataframe tbody tr th:only-of-type {\n",
              "        vertical-align: middle;\n",
              "    }\n",
              "\n",
              "    .dataframe tbody tr th {\n",
              "        vertical-align: top;\n",
              "    }\n",
              "\n",
              "    .dataframe thead th {\n",
              "        text-align: right;\n",
              "    }\n",
              "</style>\n",
              "<table border=\"1\" class=\"dataframe\">\n",
              "  <thead>\n",
              "    <tr style=\"text-align: right;\">\n",
              "      <th></th>\n",
              "      <th>sal</th>\n",
              "    </tr>\n",
              "  </thead>\n",
              "  <tbody>\n",
              "    <tr>\n",
              "      <th>0</th>\n",
              "      <td>4000</td>\n",
              "    </tr>\n",
              "    <tr>\n",
              "      <th>1</th>\n",
              "      <td>8000</td>\n",
              "    </tr>\n",
              "    <tr>\n",
              "      <th>2</th>\n",
              "      <td>10000</td>\n",
              "    </tr>\n",
              "    <tr>\n",
              "      <th>3</th>\n",
              "      <td>50</td>\n",
              "    </tr>\n",
              "    <tr>\n",
              "      <th>4</th>\n",
              "      <td>3000</td>\n",
              "    </tr>\n",
              "    <tr>\n",
              "      <th>5</th>\n",
              "      <td>6000</td>\n",
              "    </tr>\n",
              "    <tr>\n",
              "      <th>6</th>\n",
              "      <td>6400000</td>\n",
              "    </tr>\n",
              "    <tr>\n",
              "      <th>7</th>\n",
              "      <td>7000</td>\n",
              "    </tr>\n",
              "    <tr>\n",
              "      <th>8</th>\n",
              "      <td>2000</td>\n",
              "    </tr>\n",
              "    <tr>\n",
              "      <th>9</th>\n",
              "      <td>3500</td>\n",
              "    </tr>\n",
              "  </tbody>\n",
              "</table>\n",
              "</div>\n",
              "      <button class=\"colab-df-convert\" onclick=\"convertToInteractive('df-5a49330e-3b8e-490b-b51f-37e6d7972478')\"\n",
              "              title=\"Convert this dataframe to an interactive table.\"\n",
              "              style=\"display:none;\">\n",
              "        \n",
              "  <svg xmlns=\"http://www.w3.org/2000/svg\" height=\"24px\"viewBox=\"0 0 24 24\"\n",
              "       width=\"24px\">\n",
              "    <path d=\"M0 0h24v24H0V0z\" fill=\"none\"/>\n",
              "    <path d=\"M18.56 5.44l.94 2.06.94-2.06 2.06-.94-2.06-.94-.94-2.06-.94 2.06-2.06.94zm-11 1L8.5 8.5l.94-2.06 2.06-.94-2.06-.94L8.5 2.5l-.94 2.06-2.06.94zm10 10l.94 2.06.94-2.06 2.06-.94-2.06-.94-.94-2.06-.94 2.06-2.06.94z\"/><path d=\"M17.41 7.96l-1.37-1.37c-.4-.4-.92-.59-1.43-.59-.52 0-1.04.2-1.43.59L10.3 9.45l-7.72 7.72c-.78.78-.78 2.05 0 2.83L4 21.41c.39.39.9.59 1.41.59.51 0 1.02-.2 1.41-.59l7.78-7.78 2.81-2.81c.8-.78.8-2.07 0-2.86zM5.41 20L4 18.59l7.72-7.72 1.47 1.35L5.41 20z\"/>\n",
              "  </svg>\n",
              "      </button>\n",
              "      \n",
              "  <style>\n",
              "    .colab-df-container {\n",
              "      display:flex;\n",
              "      flex-wrap:wrap;\n",
              "      gap: 12px;\n",
              "    }\n",
              "\n",
              "    .colab-df-convert {\n",
              "      background-color: #E8F0FE;\n",
              "      border: none;\n",
              "      border-radius: 50%;\n",
              "      cursor: pointer;\n",
              "      display: none;\n",
              "      fill: #1967D2;\n",
              "      height: 32px;\n",
              "      padding: 0 0 0 0;\n",
              "      width: 32px;\n",
              "    }\n",
              "\n",
              "    .colab-df-convert:hover {\n",
              "      background-color: #E2EBFA;\n",
              "      box-shadow: 0px 1px 2px rgba(60, 64, 67, 0.3), 0px 1px 3px 1px rgba(60, 64, 67, 0.15);\n",
              "      fill: #174EA6;\n",
              "    }\n",
              "\n",
              "    [theme=dark] .colab-df-convert {\n",
              "      background-color: #3B4455;\n",
              "      fill: #D2E3FC;\n",
              "    }\n",
              "\n",
              "    [theme=dark] .colab-df-convert:hover {\n",
              "      background-color: #434B5C;\n",
              "      box-shadow: 0px 1px 3px 1px rgba(0, 0, 0, 0.15);\n",
              "      filter: drop-shadow(0px 1px 2px rgba(0, 0, 0, 0.3));\n",
              "      fill: #FFFFFF;\n",
              "    }\n",
              "  </style>\n",
              "\n",
              "      <script>\n",
              "        const buttonEl =\n",
              "          document.querySelector('#df-5a49330e-3b8e-490b-b51f-37e6d7972478 button.colab-df-convert');\n",
              "        buttonEl.style.display =\n",
              "          google.colab.kernel.accessAllowed ? 'block' : 'none';\n",
              "\n",
              "        async function convertToInteractive(key) {\n",
              "          const element = document.querySelector('#df-5a49330e-3b8e-490b-b51f-37e6d7972478');\n",
              "          const dataTable =\n",
              "            await google.colab.kernel.invokeFunction('convertToInteractive',\n",
              "                                                     [key], {});\n",
              "          if (!dataTable) return;\n",
              "\n",
              "          const docLinkHtml = 'Like what you see? Visit the ' +\n",
              "            '<a target=\"_blank\" href=https://colab.research.google.com/notebooks/data_table.ipynb>data table notebook</a>'\n",
              "            + ' to learn more about interactive tables.';\n",
              "          element.innerHTML = '';\n",
              "          dataTable['output_type'] = 'display_data';\n",
              "          await google.colab.output.renderOutput(dataTable, element);\n",
              "          const docLink = document.createElement('div');\n",
              "          docLink.innerHTML = docLinkHtml;\n",
              "          element.appendChild(docLink);\n",
              "        }\n",
              "      </script>\n",
              "    </div>\n",
              "  </div>\n",
              "  "
            ],
            "text/plain": [
              "       sal\n",
              "0     4000\n",
              "1     8000\n",
              "2    10000\n",
              "3       50\n",
              "4     3000\n",
              "5     6000\n",
              "6  6400000\n",
              "7     7000\n",
              "8     2000\n",
              "9     3500"
            ]
          },
          "metadata": {},
          "execution_count": 16
        }
      ]
    },
    {
      "cell_type": "code",
      "source": [
        "# 이상치 최소 한계점\n",
        "q1 - 1.5*IQR"
      ],
      "metadata": {
        "colab": {
          "base_uri": "https://localhost:8080/"
        },
        "id": "16f14-Z0XFXw",
        "outputId": "a005b5bc-b607-4c20-eb0a-06a568d43ed4"
      },
      "execution_count": 17,
      "outputs": [
        {
          "output_type": "execute_result",
          "data": {
            "text/plain": [
              "-3812.5"
            ]
          },
          "metadata": {},
          "execution_count": 17
        }
      ]
    },
    {
      "cell_type": "code",
      "source": [
        "df01[ (df01['sal'] >= q1-(1.5*IQR)) & (df01['sal'] <= q3+(1.5*IQR)) ] "
      ],
      "metadata": {
        "colab": {
          "base_uri": "https://localhost:8080/",
          "height": 331
        },
        "id": "haHIbsrsXTJe",
        "outputId": "4750bd26-4cb9-4fc6-81db-d3423ae078a9"
      },
      "execution_count": 18,
      "outputs": [
        {
          "output_type": "execute_result",
          "data": {
            "text/html": [
              "\n",
              "  <div id=\"df-26bfd6bb-2a4e-42fa-bd5a-3eaafa74cf0a\">\n",
              "    <div class=\"colab-df-container\">\n",
              "      <div>\n",
              "<style scoped>\n",
              "    .dataframe tbody tr th:only-of-type {\n",
              "        vertical-align: middle;\n",
              "    }\n",
              "\n",
              "    .dataframe tbody tr th {\n",
              "        vertical-align: top;\n",
              "    }\n",
              "\n",
              "    .dataframe thead th {\n",
              "        text-align: right;\n",
              "    }\n",
              "</style>\n",
              "<table border=\"1\" class=\"dataframe\">\n",
              "  <thead>\n",
              "    <tr style=\"text-align: right;\">\n",
              "      <th></th>\n",
              "      <th>sal</th>\n",
              "    </tr>\n",
              "  </thead>\n",
              "  <tbody>\n",
              "    <tr>\n",
              "      <th>0</th>\n",
              "      <td>4000</td>\n",
              "    </tr>\n",
              "    <tr>\n",
              "      <th>1</th>\n",
              "      <td>8000</td>\n",
              "    </tr>\n",
              "    <tr>\n",
              "      <th>2</th>\n",
              "      <td>10000</td>\n",
              "    </tr>\n",
              "    <tr>\n",
              "      <th>3</th>\n",
              "      <td>50</td>\n",
              "    </tr>\n",
              "    <tr>\n",
              "      <th>4</th>\n",
              "      <td>3000</td>\n",
              "    </tr>\n",
              "    <tr>\n",
              "      <th>5</th>\n",
              "      <td>6000</td>\n",
              "    </tr>\n",
              "    <tr>\n",
              "      <th>7</th>\n",
              "      <td>7000</td>\n",
              "    </tr>\n",
              "    <tr>\n",
              "      <th>8</th>\n",
              "      <td>2000</td>\n",
              "    </tr>\n",
              "    <tr>\n",
              "      <th>9</th>\n",
              "      <td>3500</td>\n",
              "    </tr>\n",
              "  </tbody>\n",
              "</table>\n",
              "</div>\n",
              "      <button class=\"colab-df-convert\" onclick=\"convertToInteractive('df-26bfd6bb-2a4e-42fa-bd5a-3eaafa74cf0a')\"\n",
              "              title=\"Convert this dataframe to an interactive table.\"\n",
              "              style=\"display:none;\">\n",
              "        \n",
              "  <svg xmlns=\"http://www.w3.org/2000/svg\" height=\"24px\"viewBox=\"0 0 24 24\"\n",
              "       width=\"24px\">\n",
              "    <path d=\"M0 0h24v24H0V0z\" fill=\"none\"/>\n",
              "    <path d=\"M18.56 5.44l.94 2.06.94-2.06 2.06-.94-2.06-.94-.94-2.06-.94 2.06-2.06.94zm-11 1L8.5 8.5l.94-2.06 2.06-.94-2.06-.94L8.5 2.5l-.94 2.06-2.06.94zm10 10l.94 2.06.94-2.06 2.06-.94-2.06-.94-.94-2.06-.94 2.06-2.06.94z\"/><path d=\"M17.41 7.96l-1.37-1.37c-.4-.4-.92-.59-1.43-.59-.52 0-1.04.2-1.43.59L10.3 9.45l-7.72 7.72c-.78.78-.78 2.05 0 2.83L4 21.41c.39.39.9.59 1.41.59.51 0 1.02-.2 1.41-.59l7.78-7.78 2.81-2.81c.8-.78.8-2.07 0-2.86zM5.41 20L4 18.59l7.72-7.72 1.47 1.35L5.41 20z\"/>\n",
              "  </svg>\n",
              "      </button>\n",
              "      \n",
              "  <style>\n",
              "    .colab-df-container {\n",
              "      display:flex;\n",
              "      flex-wrap:wrap;\n",
              "      gap: 12px;\n",
              "    }\n",
              "\n",
              "    .colab-df-convert {\n",
              "      background-color: #E8F0FE;\n",
              "      border: none;\n",
              "      border-radius: 50%;\n",
              "      cursor: pointer;\n",
              "      display: none;\n",
              "      fill: #1967D2;\n",
              "      height: 32px;\n",
              "      padding: 0 0 0 0;\n",
              "      width: 32px;\n",
              "    }\n",
              "\n",
              "    .colab-df-convert:hover {\n",
              "      background-color: #E2EBFA;\n",
              "      box-shadow: 0px 1px 2px rgba(60, 64, 67, 0.3), 0px 1px 3px 1px rgba(60, 64, 67, 0.15);\n",
              "      fill: #174EA6;\n",
              "    }\n",
              "\n",
              "    [theme=dark] .colab-df-convert {\n",
              "      background-color: #3B4455;\n",
              "      fill: #D2E3FC;\n",
              "    }\n",
              "\n",
              "    [theme=dark] .colab-df-convert:hover {\n",
              "      background-color: #434B5C;\n",
              "      box-shadow: 0px 1px 3px 1px rgba(0, 0, 0, 0.15);\n",
              "      filter: drop-shadow(0px 1px 2px rgba(0, 0, 0, 0.3));\n",
              "      fill: #FFFFFF;\n",
              "    }\n",
              "  </style>\n",
              "\n",
              "      <script>\n",
              "        const buttonEl =\n",
              "          document.querySelector('#df-26bfd6bb-2a4e-42fa-bd5a-3eaafa74cf0a button.colab-df-convert');\n",
              "        buttonEl.style.display =\n",
              "          google.colab.kernel.accessAllowed ? 'block' : 'none';\n",
              "\n",
              "        async function convertToInteractive(key) {\n",
              "          const element = document.querySelector('#df-26bfd6bb-2a4e-42fa-bd5a-3eaafa74cf0a');\n",
              "          const dataTable =\n",
              "            await google.colab.kernel.invokeFunction('convertToInteractive',\n",
              "                                                     [key], {});\n",
              "          if (!dataTable) return;\n",
              "\n",
              "          const docLinkHtml = 'Like what you see? Visit the ' +\n",
              "            '<a target=\"_blank\" href=https://colab.research.google.com/notebooks/data_table.ipynb>data table notebook</a>'\n",
              "            + ' to learn more about interactive tables.';\n",
              "          element.innerHTML = '';\n",
              "          dataTable['output_type'] = 'display_data';\n",
              "          await google.colab.output.renderOutput(dataTable, element);\n",
              "          const docLink = document.createElement('div');\n",
              "          docLink.innerHTML = docLinkHtml;\n",
              "          element.appendChild(docLink);\n",
              "        }\n",
              "      </script>\n",
              "    </div>\n",
              "  </div>\n",
              "  "
            ],
            "text/plain": [
              "     sal\n",
              "0   4000\n",
              "1   8000\n",
              "2  10000\n",
              "3     50\n",
              "4   3000\n",
              "5   6000\n",
              "7   7000\n",
              "8   2000\n",
              "9   3500"
            ]
          },
          "metadata": {},
          "execution_count": 18
        }
      ]
    },
    {
      "cell_type": "markdown",
      "source": [
        "# 데이터정규화"
      ],
      "metadata": {
        "id": "Sk_2DhQZc_kS"
      }
    },
    {
      "cell_type": "code",
      "source": [
        "import math"
      ],
      "metadata": {
        "id": "-XRoIZfHYTgv"
      },
      "execution_count": 19,
      "outputs": []
    },
    {
      "cell_type": "code",
      "source": [
        "math.e"
      ],
      "metadata": {
        "colab": {
          "base_uri": "https://localhost:8080/"
        },
        "id": "r2TzTGMudBaz",
        "outputId": "5c18744b-e905-4ae1-a0bc-14a3923389be"
      },
      "execution_count": 20,
      "outputs": [
        {
          "output_type": "execute_result",
          "data": {
            "text/plain": [
              "2.718281828459045"
            ]
          },
          "metadata": {},
          "execution_count": 20
        }
      ]
    },
    {
      "cell_type": "code",
      "source": [
        "math.e ** 3"
      ],
      "metadata": {
        "colab": {
          "base_uri": "https://localhost:8080/"
        },
        "id": "Bu1zmjxcdCRL",
        "outputId": "4a309319-1420-4765-bebf-def8f8247af4"
      },
      "execution_count": 22,
      "outputs": [
        {
          "output_type": "execute_result",
          "data": {
            "text/plain": [
              "20.085536923187664"
            ]
          },
          "metadata": {},
          "execution_count": 22
        }
      ]
    },
    {
      "cell_type": "code",
      "source": [
        "np.log(20.085536923187664)"
      ],
      "metadata": {
        "colab": {
          "base_uri": "https://localhost:8080/"
        },
        "id": "oR6uT773ddOF",
        "outputId": "e642551c-04f7-4a6a-b41e-53ec8f3ec1d4"
      },
      "execution_count": 24,
      "outputs": [
        {
          "output_type": "execute_result",
          "data": {
            "text/plain": [
              "3.0"
            ]
          },
          "metadata": {},
          "execution_count": 24
        }
      ]
    },
    {
      "cell_type": "code",
      "source": [
        "math.e ** 4"
      ],
      "metadata": {
        "colab": {
          "base_uri": "https://localhost:8080/"
        },
        "id": "rwtvZsgPdyPf",
        "outputId": "afa8e63d-57a5-40ef-83e0-8192b0e510af"
      },
      "execution_count": 25,
      "outputs": [
        {
          "output_type": "execute_result",
          "data": {
            "text/plain": [
              "54.59815003314423"
            ]
          },
          "metadata": {},
          "execution_count": 25
        }
      ]
    },
    {
      "cell_type": "code",
      "source": [
        "np.log(54.59815003314423)"
      ],
      "metadata": {
        "colab": {
          "base_uri": "https://localhost:8080/"
        },
        "id": "2I7fKjjqeAkE",
        "outputId": "b6309c13-1d64-4c7b-e5da-9ff3ab9906b0"
      },
      "execution_count": 26,
      "outputs": [
        {
          "output_type": "execute_result",
          "data": {
            "text/plain": [
              "4.0"
            ]
          },
          "metadata": {},
          "execution_count": 26
        }
      ]
    },
    {
      "cell_type": "code",
      "source": [
        "import seaborn as sns"
      ],
      "metadata": {
        "id": "AvXnzkT_eC8H"
      },
      "execution_count": 27,
      "outputs": []
    },
    {
      "cell_type": "code",
      "source": [
        "df01 = pd.DataFrame({\n",
        "                       \"num\":[0, 400, 0.1, 300, 200, 9, 8, 7, 6, 0.2, 5, 4, 3]\n",
        "                    })"
      ],
      "metadata": {
        "id": "99h9xNfdfBwk"
      },
      "execution_count": 28,
      "outputs": []
    },
    {
      "cell_type": "code",
      "source": [
        "df01"
      ],
      "metadata": {
        "colab": {
          "base_uri": "https://localhost:8080/",
          "height": 457
        },
        "id": "sdp2lLUffOh8",
        "outputId": "e6bea41f-8cc0-4168-d783-728061d42fb8"
      },
      "execution_count": 29,
      "outputs": [
        {
          "output_type": "execute_result",
          "data": {
            "text/html": [
              "\n",
              "  <div id=\"df-56b0f481-9b53-458f-8d81-4e1bb785048a\">\n",
              "    <div class=\"colab-df-container\">\n",
              "      <div>\n",
              "<style scoped>\n",
              "    .dataframe tbody tr th:only-of-type {\n",
              "        vertical-align: middle;\n",
              "    }\n",
              "\n",
              "    .dataframe tbody tr th {\n",
              "        vertical-align: top;\n",
              "    }\n",
              "\n",
              "    .dataframe thead th {\n",
              "        text-align: right;\n",
              "    }\n",
              "</style>\n",
              "<table border=\"1\" class=\"dataframe\">\n",
              "  <thead>\n",
              "    <tr style=\"text-align: right;\">\n",
              "      <th></th>\n",
              "      <th>num</th>\n",
              "    </tr>\n",
              "  </thead>\n",
              "  <tbody>\n",
              "    <tr>\n",
              "      <th>0</th>\n",
              "      <td>0.0</td>\n",
              "    </tr>\n",
              "    <tr>\n",
              "      <th>1</th>\n",
              "      <td>400.0</td>\n",
              "    </tr>\n",
              "    <tr>\n",
              "      <th>2</th>\n",
              "      <td>0.1</td>\n",
              "    </tr>\n",
              "    <tr>\n",
              "      <th>3</th>\n",
              "      <td>300.0</td>\n",
              "    </tr>\n",
              "    <tr>\n",
              "      <th>4</th>\n",
              "      <td>200.0</td>\n",
              "    </tr>\n",
              "    <tr>\n",
              "      <th>5</th>\n",
              "      <td>9.0</td>\n",
              "    </tr>\n",
              "    <tr>\n",
              "      <th>6</th>\n",
              "      <td>8.0</td>\n",
              "    </tr>\n",
              "    <tr>\n",
              "      <th>7</th>\n",
              "      <td>7.0</td>\n",
              "    </tr>\n",
              "    <tr>\n",
              "      <th>8</th>\n",
              "      <td>6.0</td>\n",
              "    </tr>\n",
              "    <tr>\n",
              "      <th>9</th>\n",
              "      <td>0.2</td>\n",
              "    </tr>\n",
              "    <tr>\n",
              "      <th>10</th>\n",
              "      <td>5.0</td>\n",
              "    </tr>\n",
              "    <tr>\n",
              "      <th>11</th>\n",
              "      <td>4.0</td>\n",
              "    </tr>\n",
              "    <tr>\n",
              "      <th>12</th>\n",
              "      <td>3.0</td>\n",
              "    </tr>\n",
              "  </tbody>\n",
              "</table>\n",
              "</div>\n",
              "      <button class=\"colab-df-convert\" onclick=\"convertToInteractive('df-56b0f481-9b53-458f-8d81-4e1bb785048a')\"\n",
              "              title=\"Convert this dataframe to an interactive table.\"\n",
              "              style=\"display:none;\">\n",
              "        \n",
              "  <svg xmlns=\"http://www.w3.org/2000/svg\" height=\"24px\"viewBox=\"0 0 24 24\"\n",
              "       width=\"24px\">\n",
              "    <path d=\"M0 0h24v24H0V0z\" fill=\"none\"/>\n",
              "    <path d=\"M18.56 5.44l.94 2.06.94-2.06 2.06-.94-2.06-.94-.94-2.06-.94 2.06-2.06.94zm-11 1L8.5 8.5l.94-2.06 2.06-.94-2.06-.94L8.5 2.5l-.94 2.06-2.06.94zm10 10l.94 2.06.94-2.06 2.06-.94-2.06-.94-.94-2.06-.94 2.06-2.06.94z\"/><path d=\"M17.41 7.96l-1.37-1.37c-.4-.4-.92-.59-1.43-.59-.52 0-1.04.2-1.43.59L10.3 9.45l-7.72 7.72c-.78.78-.78 2.05 0 2.83L4 21.41c.39.39.9.59 1.41.59.51 0 1.02-.2 1.41-.59l7.78-7.78 2.81-2.81c.8-.78.8-2.07 0-2.86zM5.41 20L4 18.59l7.72-7.72 1.47 1.35L5.41 20z\"/>\n",
              "  </svg>\n",
              "      </button>\n",
              "      \n",
              "  <style>\n",
              "    .colab-df-container {\n",
              "      display:flex;\n",
              "      flex-wrap:wrap;\n",
              "      gap: 12px;\n",
              "    }\n",
              "\n",
              "    .colab-df-convert {\n",
              "      background-color: #E8F0FE;\n",
              "      border: none;\n",
              "      border-radius: 50%;\n",
              "      cursor: pointer;\n",
              "      display: none;\n",
              "      fill: #1967D2;\n",
              "      height: 32px;\n",
              "      padding: 0 0 0 0;\n",
              "      width: 32px;\n",
              "    }\n",
              "\n",
              "    .colab-df-convert:hover {\n",
              "      background-color: #E2EBFA;\n",
              "      box-shadow: 0px 1px 2px rgba(60, 64, 67, 0.3), 0px 1px 3px 1px rgba(60, 64, 67, 0.15);\n",
              "      fill: #174EA6;\n",
              "    }\n",
              "\n",
              "    [theme=dark] .colab-df-convert {\n",
              "      background-color: #3B4455;\n",
              "      fill: #D2E3FC;\n",
              "    }\n",
              "\n",
              "    [theme=dark] .colab-df-convert:hover {\n",
              "      background-color: #434B5C;\n",
              "      box-shadow: 0px 1px 3px 1px rgba(0, 0, 0, 0.15);\n",
              "      filter: drop-shadow(0px 1px 2px rgba(0, 0, 0, 0.3));\n",
              "      fill: #FFFFFF;\n",
              "    }\n",
              "  </style>\n",
              "\n",
              "      <script>\n",
              "        const buttonEl =\n",
              "          document.querySelector('#df-56b0f481-9b53-458f-8d81-4e1bb785048a button.colab-df-convert');\n",
              "        buttonEl.style.display =\n",
              "          google.colab.kernel.accessAllowed ? 'block' : 'none';\n",
              "\n",
              "        async function convertToInteractive(key) {\n",
              "          const element = document.querySelector('#df-56b0f481-9b53-458f-8d81-4e1bb785048a');\n",
              "          const dataTable =\n",
              "            await google.colab.kernel.invokeFunction('convertToInteractive',\n",
              "                                                     [key], {});\n",
              "          if (!dataTable) return;\n",
              "\n",
              "          const docLinkHtml = 'Like what you see? Visit the ' +\n",
              "            '<a target=\"_blank\" href=https://colab.research.google.com/notebooks/data_table.ipynb>data table notebook</a>'\n",
              "            + ' to learn more about interactive tables.';\n",
              "          element.innerHTML = '';\n",
              "          dataTable['output_type'] = 'display_data';\n",
              "          await google.colab.output.renderOutput(dataTable, element);\n",
              "          const docLink = document.createElement('div');\n",
              "          docLink.innerHTML = docLinkHtml;\n",
              "          element.appendChild(docLink);\n",
              "        }\n",
              "      </script>\n",
              "    </div>\n",
              "  </div>\n",
              "  "
            ],
            "text/plain": [
              "      num\n",
              "0     0.0\n",
              "1   400.0\n",
              "2     0.1\n",
              "3   300.0\n",
              "4   200.0\n",
              "5     9.0\n",
              "6     8.0\n",
              "7     7.0\n",
              "8     6.0\n",
              "9     0.2\n",
              "10    5.0\n",
              "11    4.0\n",
              "12    3.0"
            ]
          },
          "metadata": {},
          "execution_count": 29
        }
      ]
    },
    {
      "cell_type": "code",
      "source": [
        "sns.distplot(df01['num'])"
      ],
      "metadata": {
        "colab": {
          "base_uri": "https://localhost:8080/",
          "height": 355
        },
        "id": "wQ0OrC2tfPDv",
        "outputId": "67ff95e2-13f4-496e-fc45-eba206829456"
      },
      "execution_count": 30,
      "outputs": [
        {
          "output_type": "stream",
          "name": "stderr",
          "text": [
            "/usr/local/lib/python3.7/dist-packages/seaborn/distributions.py:2619: FutureWarning: `distplot` is a deprecated function and will be removed in a future version. Please adapt your code to use either `displot` (a figure-level function with similar flexibility) or `histplot` (an axes-level function for histograms).\n",
            "  warnings.warn(msg, FutureWarning)\n"
          ]
        },
        {
          "output_type": "execute_result",
          "data": {
            "text/plain": [
              "<matplotlib.axes._subplots.AxesSubplot at 0x7f2585eee950>"
            ]
          },
          "metadata": {},
          "execution_count": 30
        },
        {
          "output_type": "display_data",
          "data": {
            "image/png": "[encoded data removed]",
            "text/plain": [
              "<Figure size 432x288 with 1 Axes>"
            ]
          },
          "metadata": {
            "needs_background": "light"
          }
        }
      ]
    },
    {
      "cell_type": "code",
      "source": [
        "import matplotlib.pyplot as plt"
      ],
      "metadata": {
        "id": "hXSTVSmdfSRQ"
      },
      "execution_count": 31,
      "outputs": []
    },
    {
      "cell_type": "code",
      "source": [
        "plt.style.available"
      ],
      "metadata": {
        "colab": {
          "base_uri": "https://localhost:8080/"
        },
        "id": "Gp3J7lJafv3D",
        "outputId": "ea6c45cc-033f-4c61-c363-fa5e8589dae4"
      },
      "execution_count": 32,
      "outputs": [
        {
          "output_type": "execute_result",
          "data": {
            "text/plain": [
              "['Solarize_Light2',\n",
              " '_classic_test_patch',\n",
              " 'bmh',\n",
              " 'classic',\n",
              " 'dark_background',\n",
              " 'fast',\n",
              " 'fivethirtyeight',\n",
              " 'ggplot',\n",
              " 'grayscale',\n",
              " 'seaborn',\n",
              " 'seaborn-bright',\n",
              " 'seaborn-colorblind',\n",
              " 'seaborn-dark',\n",
              " 'seaborn-dark-palette',\n",
              " 'seaborn-darkgrid',\n",
              " 'seaborn-deep',\n",
              " 'seaborn-muted',\n",
              " 'seaborn-notebook',\n",
              " 'seaborn-paper',\n",
              " 'seaborn-pastel',\n",
              " 'seaborn-poster',\n",
              " 'seaborn-talk',\n",
              " 'seaborn-ticks',\n",
              " 'seaborn-white',\n",
              " 'seaborn-whitegrid',\n",
              " 'tableau-colorblind10']"
            ]
          },
          "metadata": {},
          "execution_count": 32
        }
      ]
    },
    {
      "cell_type": "code",
      "source": [
        "plt.style.use('fivethirtyeight')"
      ],
      "metadata": {
        "id": "FlflkFpSfxBn"
      },
      "execution_count": 33,
      "outputs": []
    },
    {
      "cell_type": "code",
      "source": [
        "sns.distplot(df01['num'])"
      ],
      "metadata": {
        "colab": {
          "base_uri": "https://localhost:8080/",
          "height": 382
        },
        "id": "OjCF3o4IgLWV",
        "outputId": "e53882c1-57f8-43cf-d96f-868748fa59c7"
      },
      "execution_count": 34,
      "outputs": [
        {
          "output_type": "stream",
          "name": "stderr",
          "text": [
            "/usr/local/lib/python3.7/dist-packages/seaborn/distributions.py:2619: FutureWarning: `distplot` is a deprecated function and will be removed in a future version. Please adapt your code to use either `displot` (a figure-level function with similar flexibility) or `histplot` (an axes-level function for histograms).\n",
            "  warnings.warn(msg, FutureWarning)\n"
          ]
        },
        {
          "output_type": "execute_result",
          "data": {
            "text/plain": [
              "<matplotlib.axes._subplots.AxesSubplot at 0x7f2594a6a190>"
            ]
          },
          "metadata": {},
          "execution_count": 34
        },
        {
          "output_type": "display_data",
          "data": {
            "image/png": "[encoded data removed]",
            "text/plain": [
              "<Figure size 432x288 with 1 Axes>"
            ]
          },
          "metadata": {}
        }
      ]
    },
    {
      "cell_type": "code",
      "source": [
        "df01['num']"
      ],
      "metadata": {
        "colab": {
          "base_uri": "https://localhost:8080/"
        },
        "id": "ia7EQCk1gMyz",
        "outputId": "2a163075-30c1-4d10-ad26-1579e0bc502d"
      },
      "execution_count": 35,
      "outputs": [
        {
          "output_type": "execute_result",
          "data": {
            "text/plain": [
              "0       0.0\n",
              "1     400.0\n",
              "2       0.1\n",
              "3     300.0\n",
              "4     200.0\n",
              "5       9.0\n",
              "6       8.0\n",
              "7       7.0\n",
              "8       6.0\n",
              "9       0.2\n",
              "10      5.0\n",
              "11      4.0\n",
              "12      3.0\n",
              "Name: num, dtype: float64"
            ]
          },
          "metadata": {},
          "execution_count": 35
        }
      ]
    },
    {
      "cell_type": "code",
      "source": [
        "# 0 때문에 음의 무한대가 나옴\n",
        "np.log(df01['num'])"
      ],
      "metadata": {
        "colab": {
          "base_uri": "https://localhost:8080/"
        },
        "id": "vVJT4djQiioR",
        "outputId": "79518a5f-bbff-4baf-900a-b4abafefaf85"
      },
      "execution_count": 39,
      "outputs": [
        {
          "output_type": "stream",
          "name": "stderr",
          "text": [
            "/usr/local/lib/python3.7/dist-packages/pandas/core/series.py:726: RuntimeWarning: divide by zero encountered in log\n",
            "  result = getattr(ufunc, method)(*inputs, **kwargs)\n"
          ]
        },
        {
          "output_type": "execute_result",
          "data": {
            "text/plain": [
              "0         -inf\n",
              "1     5.991465\n",
              "2    -2.302585\n",
              "3     5.703782\n",
              "4     5.298317\n",
              "5     2.197225\n",
              "6     2.079442\n",
              "7     1.945910\n",
              "8     1.791759\n",
              "9    -1.609438\n",
              "10    1.609438\n",
              "11    1.386294\n",
              "12    1.098612\n",
              "Name: num, dtype: float64"
            ]
          },
          "metadata": {},
          "execution_count": 39
        }
      ]
    },
    {
      "cell_type": "code",
      "source": [
        "np.log(df01['num']+1)"
      ],
      "metadata": {
        "colab": {
          "base_uri": "https://localhost:8080/"
        },
        "id": "5NIzm_cwikR-",
        "outputId": "b6e780b4-b130-4b95-c26a-661d401cc9b8"
      },
      "execution_count": 40,
      "outputs": [
        {
          "output_type": "execute_result",
          "data": {
            "text/plain": [
              "0     0.000000\n",
              "1     5.993961\n",
              "2     0.095310\n",
              "3     5.707110\n",
              "4     5.303305\n",
              "5     2.302585\n",
              "6     2.197225\n",
              "7     2.079442\n",
              "8     1.945910\n",
              "9     0.182322\n",
              "10    1.791759\n",
              "11    1.609438\n",
              "12    1.386294\n",
              "Name: num, dtype: float64"
            ]
          },
          "metadata": {},
          "execution_count": 40
        }
      ]
    },
    {
      "cell_type": "code",
      "source": [
        "# log1p 해주면 된다!\n",
        "np.log1p(df01['num'])"
      ],
      "metadata": {
        "colab": {
          "base_uri": "https://localhost:8080/"
        },
        "id": "beLajnJsjIJs",
        "outputId": "0e9d517a-de82-47f4-84f3-fd6680743ebe"
      },
      "execution_count": 41,
      "outputs": [
        {
          "output_type": "execute_result",
          "data": {
            "text/plain": [
              "0     0.000000\n",
              "1     5.993961\n",
              "2     0.095310\n",
              "3     5.707110\n",
              "4     5.303305\n",
              "5     2.302585\n",
              "6     2.197225\n",
              "7     2.079442\n",
              "8     1.945910\n",
              "9     0.182322\n",
              "10    1.791759\n",
              "11    1.609438\n",
              "12    1.386294\n",
              "Name: num, dtype: float64"
            ]
          },
          "metadata": {},
          "execution_count": 41
        }
      ]
    },
    {
      "cell_type": "code",
      "source": [
        "sns.distplot( np.log1p(df01['num']), kde=False )"
      ],
      "metadata": {
        "colab": {
          "base_uri": "https://localhost:8080/",
          "height": 378
        },
        "id": "dJAzF1M5jfjr",
        "outputId": "342779e6-fe0b-4b44-804b-a5f0e8bdc3f0"
      },
      "execution_count": 43,
      "outputs": [
        {
          "output_type": "stream",
          "name": "stderr",
          "text": [
            "/usr/local/lib/python3.7/dist-packages/seaborn/distributions.py:2619: FutureWarning: `distplot` is a deprecated function and will be removed in a future version. Please adapt your code to use either `displot` (a figure-level function with similar flexibility) or `histplot` (an axes-level function for histograms).\n",
            "  warnings.warn(msg, FutureWarning)\n"
          ]
        },
        {
          "output_type": "execute_result",
          "data": {
            "text/plain": [
              "<matplotlib.axes._subplots.AxesSubplot at 0x7f25833b4f50>"
            ]
          },
          "metadata": {},
          "execution_count": 43
        },
        {
          "output_type": "display_data",
          "data": {
            "image/png": "[encoded data removed]",
            "text/plain": [
              "<Figure size 432x288 with 1 Axes>"
            ]
          },
          "metadata": {}
        }
      ]
    },
    {
      "cell_type": "code",
      "source": [
        "# 로그 안 취한 값 알아보기\n",
        "\n",
        "math.e ** 0.0959"
      ],
      "metadata": {
        "colab": {
          "base_uri": "https://localhost:8080/"
        },
        "id": "i656ABPomHra",
        "outputId": "f054f732-eb49-40f6-de8f-125beb1f88aa"
      },
      "execution_count": 48,
      "outputs": [
        {
          "output_type": "execute_result",
          "data": {
            "text/plain": [
              "1.1006489935911914"
            ]
          },
          "metadata": {},
          "execution_count": 48
        }
      ]
    },
    {
      "cell_type": "code",
      "source": [
        "np.exp( 0.0959 )"
      ],
      "metadata": {
        "colab": {
          "base_uri": "https://localhost:8080/"
        },
        "id": "I0hypZpglusp",
        "outputId": "21b2f9ed-d7bb-421d-9d37-7cff7e431a07"
      },
      "execution_count": 44,
      "outputs": [
        {
          "output_type": "execute_result",
          "data": {
            "text/plain": [
              "1.1006489935911914"
            ]
          },
          "metadata": {},
          "execution_count": 44
        }
      ]
    },
    {
      "cell_type": "code",
      "source": [
        ""
      ],
      "metadata": {
        "id": "VOnq6Ur1mPH4"
      },
      "execution_count": null,
      "outputs": []
    }
  ]
}